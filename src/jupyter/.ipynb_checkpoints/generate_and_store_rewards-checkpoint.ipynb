{
 "cells": [
  {
   "cell_type": "code",
   "execution_count": 1,
   "metadata": {},
   "outputs": [],
   "source": [
    "# Need to generate and store the reward vectors for the image+segmentation pairs. Generating this is quite time\n",
    "# consuming, so it should be easier to store these somewhere as a key,value pair and access them during training,\n",
    "# instead of calculating them on the fly"
   ]
  },
  {
   "cell_type": "code",
   "execution_count": 5,
   "metadata": {},
   "outputs": [],
   "source": [
    "import json\n",
    "from poly_seg_utils.coco_helper_functions import get_coco_instance, convert_polygon_to_compressed_RLE, get_RLE_iou\n",
    "from poly_seg_utils import resize_functions, reinforce_helper, optimal_path, helper_functions"
   ]
  },
  {
   "cell_type": "code",
   "execution_count": null,
   "metadata": {},
   "outputs": [],
   "source": []
  }
 ],
 "metadata": {
  "kernelspec": {
   "display_name": "Python 3",
   "language": "python",
   "name": "python3"
  },
  "language_info": {
   "codemirror_mode": {
    "name": "ipython",
    "version": 3
   },
   "file_extension": ".py",
   "mimetype": "text/x-python",
   "name": "python",
   "nbconvert_exporter": "python",
   "pygments_lexer": "ipython3",
   "version": "3.5.2"
  }
 },
 "nbformat": 4,
 "nbformat_minor": 2
}
