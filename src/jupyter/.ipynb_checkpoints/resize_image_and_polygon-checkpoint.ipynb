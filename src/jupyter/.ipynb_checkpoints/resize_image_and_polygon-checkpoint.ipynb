{
 "cells": [
  {
   "cell_type": "code",
   "execution_count": 1,
   "metadata": {},
   "outputs": [],
   "source": [
    "import numpy as np\n",
    "import skimage.io as io\n",
    "from skimage.transform import resize\n",
    "import matplotlib.pyplot as plt\n",
    "import os\n",
    "import json\n",
    "from pycocotools.coco import COCO\n",
    "%matplotlib inline"
   ]
  },
  {
   "cell_type": "code",
   "execution_count": 2,
   "metadata": {},
   "outputs": [],
   "source": [
    "import sys\n",
    "sys.path.insert(0, os.path.abspath('..'))\n",
    "# from /home/greghovhannisyan/PycharmProjects/towards_rlnn_cnn/ObjectSegWithRL/src/resize_functions.py import *\n",
    "from resize_functions import *"
   ]
  },
  {
   "cell_type": "code",
   "execution_count": 3,
   "metadata": {},
   "outputs": [],
   "source": [
    "bbox_file_path = '/home/greghovhannisyan/PycharmProjects/towards_rlnn_cnn/ObjectSegWithRL/data/bbox_crop_shape_gte10k.json'\n",
    "polygon_file_path = '/media/greghovhannisyan/BackupData1/mscoco/annotations/crop_annotations/train2017_crop_bbox_polygons_adjusted.json'\n",
    "new_poly_file_path = '/media/greghovhannisyan/BackupData1/mscoco/annotations/crop_annotations/train2017_crop_bbox_polygons_resized.json'\n",
    "image_dir_read_path = '/media/greghovhannisyan/BackupData1/mscoco/images/train2017_crop_bbox/'\n",
    "image_dir_write_path = '/media/greghovhannisyan/BackupData1/mscoco/images/train2017_crop_bbox_resized/'"
   ]
  },
  {
   "cell_type": "code",
   "execution_count": 4,
   "metadata": {},
   "outputs": [],
   "source": [
    "new_shape = (224, 224)"
   ]
  },
  {
   "cell_type": "code",
   "execution_count": 5,
   "metadata": {},
   "outputs": [],
   "source": [
    "# Load the polygon json and the vertex json\n",
    "with open(bbox_file_path, 'r') as read_file:\n",
    "    bbox_json = json.load(read_file)\n",
    "    \n",
    "with open(polygon_file_path, 'r') as read_file:\n",
    "    poly_json = json.load(read_file)"
   ]
  },
  {
   "cell_type": "code",
   "execution_count": 6,
   "metadata": {},
   "outputs": [],
   "source": [
    "filter_set = get_set_from_json(bbox_json)"
   ]
  },
  {
   "cell_type": "code",
   "execution_count": null,
   "metadata": {},
   "outputs": [],
   "source": []
  },
  {
   "cell_type": "code",
   "execution_count": 12,
   "metadata": {},
   "outputs": [
    {
     "data": {
      "text/plain": [
       "767315"
      ]
     },
     "execution_count": 12,
     "metadata": {},
     "output_type": "execute_result"
    }
   ],
   "source": [
    "len(list(poly_json.keys()))"
   ]
  },
  {
   "cell_type": "code",
   "execution_count": 15,
   "metadata": {},
   "outputs": [],
   "source": [
    "with open('bbox_poly_resize_gte_10k.txt', 'r') as read_file:\n",
    "    filter_set_new = read_file.read().splitlines()"
   ]
  },
  {
   "cell_type": "code",
   "execution_count": 16,
   "metadata": {},
   "outputs": [
    {
     "name": "stderr",
     "output_type": "stream",
     "text": [
      "/usr/local/lib/python3.5/dist-packages/skimage/transform/_warps.py:105: UserWarning: The default mode, 'constant', will be changed to 'reflect' in skimage 0.15.\n",
      "  warn(\"The default mode, 'constant', will be changed to 'reflect' in \"\n",
      "/usr/local/lib/python3.5/dist-packages/skimage/transform/_warps.py:110: UserWarning: Anti-aliasing will be enabled by default in skimage 0.15 to avoid aliasing artifacts when down-sampling images.\n",
      "  warn(\"Anti-aliasing will be enabled by default in skimage 0.15 to \"\n",
      "/usr/local/lib/python3.5/dist-packages/skimage/util/dtype.py:130: UserWarning: Possible precision loss when converting from float64 to uint8\n",
      "  .format(dtypeobj_in, dtypeobj_out))\n",
      "/usr/local/lib/python3.5/dist-packages/skimage/io/_io.py:140: UserWarning: /media/greghovhannisyan/BackupData1/mscoco/images/train2017_crop_bbox_resized/2182301.jpg is a low contrast image\n",
      "  warn('%s is a low contrast image' % fname)\n",
      "/usr/local/lib/python3.5/dist-packages/skimage/io/_io.py:140: UserWarning: /media/greghovhannisyan/BackupData1/mscoco/images/train2017_crop_bbox_resized/1168790.jpg is a low contrast image\n",
      "  warn('%s is a low contrast image' % fname)\n",
      "/usr/local/lib/python3.5/dist-packages/skimage/io/_io.py:140: UserWarning: /media/greghovhannisyan/BackupData1/mscoco/images/train2017_crop_bbox_resized/2224999.jpg is a low contrast image\n",
      "  warn('%s is a low contrast image' % fname)\n",
      "/usr/local/lib/python3.5/dist-packages/skimage/io/_io.py:140: UserWarning: /media/greghovhannisyan/BackupData1/mscoco/images/train2017_crop_bbox_resized/1176869.jpg is a low contrast image\n",
      "  warn('%s is a low contrast image' % fname)\n",
      "/usr/local/lib/python3.5/dist-packages/skimage/io/_io.py:140: UserWarning: /media/greghovhannisyan/BackupData1/mscoco/images/train2017_crop_bbox_resized/1219874.jpg is a low contrast image\n",
      "  warn('%s is a low contrast image' % fname)\n",
      "/usr/local/lib/python3.5/dist-packages/skimage/io/_io.py:140: UserWarning: /media/greghovhannisyan/BackupData1/mscoco/images/train2017_crop_bbox_resized/1267232.jpg is a low contrast image\n",
      "  warn('%s is a low contrast image' % fname)\n",
      "/usr/local/lib/python3.5/dist-packages/skimage/io/_io.py:140: UserWarning: /media/greghovhannisyan/BackupData1/mscoco/images/train2017_crop_bbox_resized/1445760.jpg is a low contrast image\n",
      "  warn('%s is a low contrast image' % fname)\n",
      "/usr/local/lib/python3.5/dist-packages/skimage/io/_io.py:140: UserWarning: /media/greghovhannisyan/BackupData1/mscoco/images/train2017_crop_bbox_resized/432461.jpg is a low contrast image\n",
      "  warn('%s is a low contrast image' % fname)\n",
      "/usr/local/lib/python3.5/dist-packages/skimage/io/_io.py:140: UserWarning: /media/greghovhannisyan/BackupData1/mscoco/images/train2017_crop_bbox_resized/512068.jpg is a low contrast image\n",
      "  warn('%s is a low contrast image' % fname)\n",
      "/usr/local/lib/python3.5/dist-packages/skimage/io/_io.py:140: UserWarning: /media/greghovhannisyan/BackupData1/mscoco/images/train2017_crop_bbox_resized/1598714.jpg is a low contrast image\n",
      "  warn('%s is a low contrast image' % fname)\n",
      "/usr/local/lib/python3.5/dist-packages/skimage/io/_io.py:140: UserWarning: /media/greghovhannisyan/BackupData1/mscoco/images/train2017_crop_bbox_resized/1605171.jpg is a low contrast image\n",
      "  warn('%s is a low contrast image' % fname)\n",
      "/usr/local/lib/python3.5/dist-packages/skimage/io/_io.py:140: UserWarning: /media/greghovhannisyan/BackupData1/mscoco/images/train2017_crop_bbox_resized/1627751.jpg is a low contrast image\n",
      "  warn('%s is a low contrast image' % fname)\n",
      "/usr/local/lib/python3.5/dist-packages/skimage/io/_io.py:140: UserWarning: /media/greghovhannisyan/BackupData1/mscoco/images/train2017_crop_bbox_resized/1649732.jpg is a low contrast image\n",
      "  warn('%s is a low contrast image' % fname)\n",
      "/usr/local/lib/python3.5/dist-packages/skimage/io/_io.py:140: UserWarning: /media/greghovhannisyan/BackupData1/mscoco/images/train2017_crop_bbox_resized/1692896.jpg is a low contrast image\n",
      "  warn('%s is a low contrast image' % fname)\n",
      "/usr/local/lib/python3.5/dist-packages/skimage/io/_io.py:140: UserWarning: /media/greghovhannisyan/BackupData1/mscoco/images/train2017_crop_bbox_resized/1716317.jpg is a low contrast image\n",
      "  warn('%s is a low contrast image' % fname)\n",
      "/usr/local/lib/python3.5/dist-packages/skimage/io/_io.py:140: UserWarning: /media/greghovhannisyan/BackupData1/mscoco/images/train2017_crop_bbox_resized/710211.jpg is a low contrast image\n",
      "  warn('%s is a low contrast image' % fname)\n",
      "/usr/local/lib/python3.5/dist-packages/skimage/io/_io.py:140: UserWarning: /media/greghovhannisyan/BackupData1/mscoco/images/train2017_crop_bbox_resized/1761393.jpg is a low contrast image\n",
      "  warn('%s is a low contrast image' % fname)\n",
      "/usr/local/lib/python3.5/dist-packages/skimage/io/_io.py:140: UserWarning: /media/greghovhannisyan/BackupData1/mscoco/images/train2017_crop_bbox_resized/1789387.jpg is a low contrast image\n",
      "  warn('%s is a low contrast image' % fname)\n",
      "/usr/local/lib/python3.5/dist-packages/skimage/io/_io.py:140: UserWarning: /media/greghovhannisyan/BackupData1/mscoco/images/train2017_crop_bbox_resized/1934668.jpg is a low contrast image\n",
      "  warn('%s is a low contrast image' % fname)\n",
      "/usr/local/lib/python3.5/dist-packages/skimage/io/_io.py:140: UserWarning: /media/greghovhannisyan/BackupData1/mscoco/images/train2017_crop_bbox_resized/1936624.jpg is a low contrast image\n",
      "  warn('%s is a low contrast image' % fname)\n",
      "/usr/local/lib/python3.5/dist-packages/skimage/io/_io.py:140: UserWarning: /media/greghovhannisyan/BackupData1/mscoco/images/train2017_crop_bbox_resized/1945142.jpg is a low contrast image\n",
      "  warn('%s is a low contrast image' % fname)\n",
      "/usr/local/lib/python3.5/dist-packages/skimage/io/_io.py:140: UserWarning: /media/greghovhannisyan/BackupData1/mscoco/images/train2017_crop_bbox_resized/1969682.jpg is a low contrast image\n",
      "  warn('%s is a low contrast image' % fname)\n",
      "/usr/local/lib/python3.5/dist-packages/skimage/io/_io.py:140: UserWarning: /media/greghovhannisyan/BackupData1/mscoco/images/train2017_crop_bbox_resized/1987294.jpg is a low contrast image\n",
      "  warn('%s is a low contrast image' % fname)\n",
      "/usr/local/lib/python3.5/dist-packages/skimage/io/_io.py:140: UserWarning: /media/greghovhannisyan/BackupData1/mscoco/images/train2017_crop_bbox_resized/1990976.jpg is a low contrast image\n",
      "  warn('%s is a low contrast image' % fname)\n",
      "/usr/local/lib/python3.5/dist-packages/skimage/io/_io.py:140: UserWarning: /media/greghovhannisyan/BackupData1/mscoco/images/train2017_crop_bbox_resized/2081308.jpg is a low contrast image\n",
      "  warn('%s is a low contrast image' % fname)\n"
     ]
    }
   ],
   "source": [
    "resize_img_and_poly_dir(image_dir_read_path, poly_json, filter_set_new, new_shape, image_dir_write_path, new_poly_file_path)"
   ]
  },
  {
   "cell_type": "code",
   "execution_count": 13,
   "metadata": {},
   "outputs": [],
   "source": [
    "# make the poly json have int as keys\n",
    "temp_poly = dict()\n",
    "for key in poly_json.keys():\n",
    "    temp_poly[int(key)] = poly_json[key]"
   ]
  },
  {
   "cell_type": "code",
   "execution_count": 14,
   "metadata": {},
   "outputs": [],
   "source": [
    "with open('train_2017_crop_bbox_polygons_adjusted.json', 'w') as write_file:\n",
    "    json.dump(temp_poly, write_file, indent=4, sort_keys=True)"
   ]
  },
  {
   "cell_type": "code",
   "execution_count": null,
   "metadata": {},
   "outputs": [],
   "source": []
  }
 ],
 "metadata": {
  "kernelspec": {
   "display_name": "Python 3",
   "language": "python",
   "name": "python3"
  },
  "language_info": {
   "codemirror_mode": {
    "name": "ipython",
    "version": 3
   },
   "file_extension": ".py",
   "mimetype": "text/x-python",
   "name": "python",
   "nbconvert_exporter": "python",
   "pygments_lexer": "ipython3",
   "version": "3.5.2"
  }
 },
 "nbformat": 4,
 "nbformat_minor": 2
}
