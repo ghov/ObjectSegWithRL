{
 "cells": [
  {
   "cell_type": "code",
   "execution_count": 22,
   "metadata": {},
   "outputs": [],
   "source": [
    "from PIL import Image\n",
    "from os import listdir\n",
    "from torchvision.transforms import Resize"
   ]
  },
  {
   "cell_type": "code",
   "execution_count": 4,
   "metadata": {},
   "outputs": [],
   "source": [
    "dir_path = '/media/greghovhannisyan/BackupData1/mscoco/'"
   ]
  },
  {
   "cell_type": "code",
   "execution_count": 33,
   "metadata": {},
   "outputs": [],
   "source": [
    "width_set = set()\n",
    "height_set = set()\n",
    "counter = 0\n",
    "maxcount = 10\n",
    "for filename in listdir(dir_path + 'images/' + 'test2017/'):\n",
    "    counter += 1\n",
    "    if(counter == maxcount):\n",
    "        break\n",
    "    \n",
    "    img = Image.open(dir_path + 'images/' + 'test2017/' + filename)\n",
    "    img.resize((100, 100)).show()\n",
    "    #width, height = img.size\n",
    "    #width_set.add(width)\n",
    "    #height_set.add(height)"
   ]
  },
  {
   "cell_type": "code",
   "execution_count": 21,
   "metadata": {},
   "outputs": [
    {
     "name": "stdout",
     "output_type": "stream",
     "text": [
      "640\n",
      "640\n"
     ]
    }
   ],
   "source": [
    "print(max(width_set))\n",
    "print(max(height_set))"
   ]
  },
  {
   "cell_type": "code",
   "execution_count": null,
   "metadata": {},
   "outputs": [],
   "source": []
  }
 ],
 "metadata": {
  "kernelspec": {
   "display_name": "Python 3",
   "language": "python",
   "name": "python3"
  },
  "language_info": {
   "codemirror_mode": {
    "name": "ipython",
    "version": 3
   },
   "file_extension": ".py",
   "mimetype": "text/x-python",
   "name": "python",
   "nbconvert_exporter": "python",
   "pygments_lexer": "ipython3",
   "version": "3.5.2"
  }
 },
 "nbformat": 4,
 "nbformat_minor": 2
}
