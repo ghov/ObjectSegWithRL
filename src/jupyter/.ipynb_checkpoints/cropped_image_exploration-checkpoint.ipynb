{
 "cells": [
  {
   "cell_type": "code",
   "execution_count": 1,
   "metadata": {},
   "outputs": [],
   "source": [
    "# Here, we want to go through the cropped images and find ones that can be used in the machine learning.\n",
    "# Need a minimum image/ size, otherwise the images look terrible.\n",
    "# Need ones that have only one polygon and have the same polygon size.\n",
    "# Also, would prefer ones that have same size."
   ]
  },
  {
   "cell_type": "code",
   "execution_count": 12,
   "metadata": {},
   "outputs": [],
   "source": [
    "import numpy as np\n",
    "import skimage.io as io\n",
    "from os import listdir\n",
    "import json\n",
    "import matplotlib.pyplot as plt"
   ]
  },
  {
   "cell_type": "code",
   "execution_count": 13,
   "metadata": {},
   "outputs": [],
   "source": [
    "bbox_crop_dir = '/media/greghovhannisyan/BackupData1/mscoco/images/train2017_crop_bbox/'\n",
    "vertex_count_segmentation_ids_path = '/home/greghovhannisyan/PycharmProjects/towards_rlnn_cnn/ObjectSegWithRL/data/vertex_count_segmentation_ids.json'"
   ]
  },
  {
   "cell_type": "code",
   "execution_count": 23,
   "metadata": {},
   "outputs": [],
   "source": [
    "# Make a dictionary of all of the images. The key is the tuple of (height, width) and the value is a list of\n",
    "# segmentation ids that have that (height, width). Note that we are ignoring the channel argument, which is presumed\n",
    "# to be 3.\n",
    "\n",
    "# Create the empty dict\n",
    "image_shape_dict = dict()\n",
    "\n",
    "# Loop through every image\n",
    "try:\n",
    "    for filename in listdir(bbox_crop_dir):\n",
    "        # Get the height and width of the image\n",
    "        im_shape = io.imread(bbox_crop_dir + filename).shape\n",
    "        if(len(im_shape) == 2):\n",
    "            height, width = im_shape\n",
    "        else:\n",
    "            height, width, _ = im_shape\n",
    "        # Check if the height and width are already in the dict\n",
    "        if((height, width) not in image_shape_dict.keys()):\n",
    "            # If not, then add the new key and give it an empty list\n",
    "            image_shape_dict[(height, width)] = list()    \n",
    "        # Add the segmentation id to the dictionary under the correct key    \n",
    "        image_shape_dict[(height, width)].append(filename.split('.')[0])\n",
    "except:\n",
    "    print(filename)\n",
    "    exit()"
   ]
  },
  {
   "cell_type": "code",
   "execution_count": 35,
   "metadata": {},
   "outputs": [],
   "source": [
    "# make a dictinary, where the key is the size of the image and the value is a list of segmentation ids\n",
    "import json\n",
    "write_file_dir = '/home/greghovhannisyan/PycharmProjects/towards_rlnn_cnn/ObjectSegWithRL/data/'\n",
    "write_file_name = 'bbox_crop_shape.json'\n",
    "\n",
    "# Accidentally made all of the values string, but they should have been ints. Convert values to int\n",
    "for val in image_shape_dict.keys():\n",
    "    image_shape_dict[val] = list(map(int, image_shape_dict[val]))\n",
    "\n",
    "# Convert the dict keys to a json friendly format\n",
    "conv_dict = dict()\n",
    "for key in image_shape_dict.keys():\n",
    "    conv_dict[str(key)] = image_shape_dict[key]\n",
    "    \n",
    "with open(write_file_dir + write_file_name, 'w') as write_file:\n",
    "    json.dump(conv_dict, write_file, indent=4)"
   ]
  },
  {
   "cell_type": "code",
   "execution_count": 77,
   "metadata": {},
   "outputs": [],
   "source": [
    "# Make a new dictionary that has images of a certain size or better\n",
    "gte_image_shape_dict = dict()\n",
    "\n",
    "for key in image_shape_dict.keys():\n",
    "    height, width = key\n",
    "    if(height * width) >= 10000:\n",
    "        gte_image_shape_dict[key] = image_shape_dict[key]"
   ]
  },
  {
   "cell_type": "code",
   "execution_count": 87,
   "metadata": {},
   "outputs": [],
   "source": [
    "# Convert the dict keys to a json friendly format\n",
    "conv_dict = dict()\n",
    "for key in gte_image_shape_dict.keys():\n",
    "    conv_dict[str(key)] = gte_image_shape_dict[key]\n",
    "    \n",
    "with open(write_file_dir + 'bbox_crop_shape_gte10k.json', 'w') as write_file:\n",
    "    json.dump(conv_dict, write_file, indent=4)"
   ]
  },
  {
   "cell_type": "code",
   "execution_count": 81,
   "metadata": {},
   "outputs": [
    {
     "data": {
      "text/plain": [
       "148910"
      ]
     },
     "execution_count": 81,
     "metadata": {},
     "output_type": "execute_result"
    }
   ],
   "source": [
    "len(image_shape_dict.values())"
   ]
  },
  {
   "cell_type": "code",
   "execution_count": 79,
   "metadata": {},
   "outputs": [
    {
     "data": {
      "text/plain": [
       "126652"
      ]
     },
     "execution_count": 79,
     "metadata": {},
     "output_type": "execute_result"
    }
   ],
   "source": [
    "len(gte_image_shape_dict.values())"
   ]
  },
  {
   "cell_type": "code",
   "execution_count": 84,
   "metadata": {},
   "outputs": [
    {
     "name": "stdout",
     "output_type": "stream",
     "text": [
      "280669\n"
     ]
    }
   ],
   "source": [
    "sum = 0\n",
    "for key in gte_image_shape_dict.keys():\n",
    "    sum += len(gte_image_shape_dict[key])\n",
    "print(sum)"
   ]
  },
  {
   "cell_type": "code",
   "execution_count": 74,
   "metadata": {},
   "outputs": [
    {
     "name": "stdout",
     "output_type": "stream",
     "text": [
      "148910\n",
      "148910\n",
      "858662\n",
      "6\n",
      "[2088104, 2138639, 38004, 1637694, 1977531, 1639693]\n"
     ]
    }
   ],
   "source": [
    "print(len(image_shape_dict))\n",
    "print(len(conv_dict))\n",
    "print(len(listdir(bbox_crop_dir)))\n",
    "\n",
    "print(len(image_shape_dict[(1, 1)]))\n",
    "print(image_shape_dict[(1, 1)])\n",
    "#print(image_shape_dict)"
   ]
  },
  {
   "cell_type": "code",
   "execution_count": 53,
   "metadata": {},
   "outputs": [],
   "source": [
    "def get_key_with_most_vals(in_dict):\n",
    "    maxcount = max(len(v) for v in in_dict.values())\n",
    "    return [k for k, v in in_dict.items() if len(v) == maxcount]"
   ]
  },
  {
   "cell_type": "code",
   "execution_count": 64,
   "metadata": {},
   "outputs": [
    {
     "data": {
      "text/plain": [
       "583"
      ]
     },
     "execution_count": 64,
     "metadata": {},
     "output_type": "execute_result"
    }
   ],
   "source": [
    "sorted(list(len(v) for v in image_shape_dict.values()))[-2]"
   ]
  },
  {
   "cell_type": "code",
   "execution_count": 76,
   "metadata": {},
   "outputs": [
    {
     "ename": "SyntaxError",
     "evalue": "invalid syntax (<ipython-input-76-8268283f3a86>, line 2)",
     "output_type": "error",
     "traceback": [
      "\u001b[0;36m  File \u001b[0;32m\"<ipython-input-76-8268283f3a86>\"\u001b[0;36m, line \u001b[0;32m2\u001b[0m\n\u001b[0;31m    ordered_d = OrderedDict(sorted(image_shape_dict.items(), key=lambda (k,v):len(v), reverse=True))\u001b[0m\n\u001b[0m                                                                        ^\u001b[0m\n\u001b[0;31mSyntaxError\u001b[0m\u001b[0;31m:\u001b[0m invalid syntax\n"
     ]
    }
   ],
   "source": [
    "from collections import OrderedDict\n",
    "ordered_d = OrderedDict(sorted(image_shape_dict.items(), key=lambda (k,v):len(v), reverse=True))"
   ]
  },
  {
   "cell_type": "code",
   "execution_count": 108,
   "metadata": {},
   "outputs": [
    {
     "name": "stdout",
     "output_type": "stream",
     "text": [
      "3\n"
     ]
    },
    {
     "data": {
      "image/png": "[encoded data removed]",
      "text/plain": [
       "<Figure size 432x288 with 1 Axes>"
      ]
     },
     "metadata": {},
     "output_type": "display_data"
    }
   ],
   "source": [
    "I = io.imread(bbox_crop_dir + '900300297200.jpg')\n",
    "print(len(I.shape))\n",
    "plt.figure(); plt.axis('off')\n",
    "plt.imshow(I)\n",
    "plt.show()"
   ]
  },
  {
   "cell_type": "code",
   "execution_count": null,
   "metadata": {},
   "outputs": [],
   "source": [
    "# If an image is too small, then it is hard to see and understand. Hence, we try to exclude such images from \n",
    "# our training dataset. In this case, the limit is >=10,000\n",
    "\n",
    "img_gt_10k_list = list()\n",
    "for filename in listdir(bbox_crop_dir):\n",
    "    if(io.imread(bbox_crop_dir + filename).size >= 10000):\n",
    "        img_gt_10k_list.append(int(filename.split('.')[0]))\n",
    "        #print(filename)\n",
    "        #print(io.imread(bbox_crop_dir + filename).size)\n",
    "    "
   ]
  },
  {
   "cell_type": "code",
   "execution_count": null,
   "metadata": {},
   "outputs": [],
   "source": [
    "# Cross check the images found here with the 'vertex_count_segmentation_ids' file.\n",
    "# Load the json, then loop through every item in it:\n",
    "# Then, search every item in each list. If any of them are in the 'img_gt_10k_list', then add them to \n",
    "\n",
    "crop_vertex_count_dict = dict()\n",
    "with open(vertex_count_segmentation_ids_path, 'r') as json_read_file:\n",
    "    vertex_json = json.load(json_read_file)\n",
    "    \n",
    "for key in vertex_json.keys():\n",
    "    for ann_item in vertex_json[key]:\n",
    "        if ann_item in img_gt_10k_list:\n",
    "            if key in crop_vertex_count_dict:\n",
    "                crop_vertex_count_dict[key].append(ann_item)\n",
    "            else:\n",
    "                crop_vertex_count_dict[key] = list()\n",
    "                crop_vertex_count_dict[key].append(ann_item)"
   ]
  },
  {
   "cell_type": "code",
   "execution_count": 31,
   "metadata": {},
   "outputs": [
    {
     "name": "stdout",
     "output_type": "stream",
     "text": [
      "168\n"
     ]
    }
   ],
   "source": [
    "# Now we want to see how many of the images in crop_vertex_count_dict have the same size\n",
    "# So, we need to find the list with the most items in it, then form a dictionary of the file sizes of those.\n",
    "print(sorted(crop_vertex_count_dict, key=crop_vertex_count_dict.get)[-1])\n",
    "\n",
    "\n",
    "\n",
    "\n"
   ]
  },
  {
   "cell_type": "code",
   "execution_count": 35,
   "metadata": {},
   "outputs": [
    {
     "name": "stdout",
     "output_type": "stream",
     "text": [
      "94860\n",
      "702240\n",
      "417171\n",
      "143520\n",
      "197820\n",
      "37128\n",
      "16245\n",
      "24576\n"
     ]
    }
   ],
   "source": [
    "crop_vertex_count_dict['168']\n",
    "for val in crop_vertex_count_dict['168']:\n",
    "    print(io.imread(bbox_crop_dir + str(val) + '.jpg').size)"
   ]
  },
  {
   "cell_type": "code",
   "execution_count": null,
   "metadata": {},
   "outputs": [],
   "source": []
  }
 ],
 "metadata": {
  "kernelspec": {
   "display_name": "Python 3",
   "language": "python",
   "name": "python3"
  },
  "language_info": {
   "codemirror_mode": {
    "name": "ipython",
    "version": 3
   },
   "file_extension": ".py",
   "mimetype": "text/x-python",
   "name": "python",
   "nbconvert_exporter": "python",
   "pygments_lexer": "ipython3",
   "version": "3.5.2"
  }
 },
 "nbformat": 4,
 "nbformat_minor": 2
}
