{
 "cells": [
  {
   "cell_type": "code",
   "execution_count": 1,
   "metadata": {},
   "outputs": [],
   "source": [
    "# If we generate a new image by cropping it from an older image, then we also need to change the polygon\n",
    "# in order to make it fit the new cropped image."
   ]
  },
  {
   "cell_type": "code",
   "execution_count": 6,
   "metadata": {},
   "outputs": [],
   "source": [
    "#from os import listdir\n",
    "from torchvision.transforms import Resize\n",
    "from PIL import Image\n",
    "import skimage.io as io\n",
    "%matplotlib inline\n",
    "from pycocotools.coco import COCO\n",
    "from os import listdir\n",
    "import matplotlib.pyplot as plt\n",
    "import numpy as np"
   ]
  },
  {
   "cell_type": "code",
   "execution_count": 7,
   "metadata": {},
   "outputs": [],
   "source": [
    "read_directory = '/media/greghovhannisyan/BackupData1/mscoco/images/train2017/'\n",
    "#write_directory = '/media/greghovhannisyan/BackupData1/mscoco/images/resized_images/train_2017_224_224/'\n",
    "annFile = '/media/greghovhannisyan/BackupData1/mscoco/annotations/instances/instances_train2017.json'\n",
    "bbox_crop_dir = '/media/greghovhannisyan/BackupData1/mscoco/images/train2017_crop_bbox/'"
   ]
  },
  {
   "cell_type": "code",
   "execution_count": 8,
   "metadata": {},
   "outputs": [
    {
     "name": "stdout",
     "output_type": "stream",
     "text": [
      "loading annotations into memory...\n",
      "Done (t=14.15s)\n",
      "creating index...\n",
      "index created!\n"
     ]
    }
   ],
   "source": [
    "# initialize COCO api for instance annotations\n",
    "coco=COCO(annFile)"
   ]
  },
  {
   "cell_type": "code",
   "execution_count": 50,
   "metadata": {},
   "outputs": [
    {
     "name": "stdout",
     "output_type": "stream",
     "text": [
      "[235.3, 200.74, 42.48, 97.04]\n",
      "[270.54, 205.57, 264.75, 202.19, 258.95, 200.74, 252.68, 201.23, 246.4, 202.19, 241.09, 203.64, 236.75, 205.09, 236.26, 207.98, 235.3, 208.47, 236.75, 211.36, 238.68, 212.33, 239.64, 215.71, 239.64, 220.54, 237.23, 237.91, 237.23, 245.16, 237.23, 249.98, 240.61, 255.29, 242.54, 258.19, 246.88, 260.12, 251.71, 263.5, 253.64, 267.36, 253.64, 270.74, 255.57, 281.85, 253.16, 286.67, 249.3, 288.6, 246.88, 290.05, 243.99, 290.54, 239.64, 291.98, 239.64, 294.4, 242.54, 296.81, 246.4, 297.29, 257.02, 297.78, 257.02, 297.78, 262.33, 297.78, 263.78, 297.78, 270.54, 293.92, 277.78, 292.95, 276.82, 287.64, 268.61, 286.19, 264.26, 283.29, 262.33, 273.64, 262.33, 268.81, 262.33, 263.98, 265.23, 258.19, 264.26, 256.26, 265.23, 245.16, 269.09, 244.67, 266.19, 228.26, 270.54, 223.91, 268.61, 220.05, 268.61, 217.64, 268.61, 215.23, 268.61, 212.33, 269.57, 209.91, 270.54, 207.02]\n",
      "110\n"
     ]
    }
   ],
   "source": [
    "sample_ann_id = 1874298\n",
    "temp_list = list()\n",
    "temp_list.append(sample_ann_id)\n",
    "sample_ann = coco.loadAnns(temp_list)\n",
    "print(sample_ann[0]['bbox'])\n",
    "print(sample_ann[0]['segmentation'][0])\n",
    "\n",
    "xmin = sample_ann[0]['bbox'][0]\n",
    "ymin = sample_ann[0]['bbox'][1]\n",
    "temp_seg = sample_ann[0]['segmentation'][0]\n",
    "\n",
    "new_seg = list()\n",
    "length = len(temp_seg)\n",
    "print(length)\n",
    "\n",
    "for i in range(0,length, 2):\n",
    "    new_seg.append(temp_seg[i]-xmin)\n",
    "    new_seg.append(temp_seg[i+1]-ymin)\n",
    "    \n",
    "#print(temp_list)\n",
    "#print(annIds)"
   ]
  },
  {
   "cell_type": "code",
   "execution_count": 51,
   "metadata": {},
   "outputs": [],
   "source": [
    "sample_ann[0]['segmentation'][0] = new_seg"
   ]
  },
  {
   "cell_type": "code",
   "execution_count": 52,
   "metadata": {},
   "outputs": [
    {
     "name": "stdout",
     "output_type": "stream",
     "text": [
      "12222\n"
     ]
    },
    {
     "data": {
      "text/plain": [
       "<matplotlib.image.AxesImage at 0x7f5673962080>"
      ]
     },
     "execution_count": 52,
     "metadata": {},
     "output_type": "execute_result"
    },
    {
     "data": {
      "image/png": "[encoded data removed]",
      "text/plain": [
       "<Figure size 432x288 with 1 Axes>"
      ]
     },
     "metadata": {},
     "output_type": "display_data"
    }
   ],
   "source": [
    "I = io.imread(bbox_crop_dir + str(sample_ann_id) + '.jpg')\n",
    "print(I.size)\n",
    "plt.figure(); plt.axis('off')\n",
    "plt.imshow(I)"
   ]
  },
  {
   "cell_type": "code",
   "execution_count": 53,
   "metadata": {},
   "outputs": [
    {
     "name": "stdout",
     "output_type": "stream",
     "text": [
      "<class 'int'>\n",
      "[35.24000000000001, 4.829999999999984, 29.44999999999999, 1.4499999999999886, 23.649999999999977, 0.0, 17.379999999999995, 0.4899999999999807, 11.099999999999994, 1.4499999999999886, 5.789999999999992, 2.8999999999999773, 1.4499999999999886, 4.349999999999994, 0.9599999999999795, 7.239999999999981, 0.0, 7.72999999999999, 1.4499999999999886, 10.620000000000005, 3.3799999999999955, 11.590000000000003, 4.339999999999975, 14.969999999999999, 4.339999999999975, 19.799999999999983, 1.9299999999999784, 37.16999999999999, 1.9299999999999784, 44.41999999999999, 1.9299999999999784, 49.23999999999998, 5.310000000000002, 54.54999999999998, 7.239999999999981, 57.44999999999999, 11.579999999999984, 59.379999999999995, 16.409999999999997, 62.75999999999999, 18.339999999999975, 66.62, 18.339999999999975, 70.0, 20.269999999999982, 81.11000000000001, 17.859999999999985, 85.93, 14.0, 87.86000000000001, 11.579999999999984, 89.31, 8.689999999999998, 89.80000000000001, 4.339999999999975, 91.24000000000001, 4.339999999999975, 93.65999999999997, 7.239999999999981, 96.07, 11.099999999999994, 96.55000000000001, 21.71999999999997, 97.03999999999996, 21.71999999999997, 97.03999999999996, 27.029999999999973, 97.03999999999996, 28.47999999999996, 97.03999999999996, 35.24000000000001, 93.18, 42.47999999999996, 92.20999999999998, 41.51999999999998, 86.89999999999998, 33.31, 85.44999999999999, 28.95999999999998, 82.55000000000001, 27.029999999999973, 72.89999999999998, 27.029999999999973, 68.07, 27.029999999999973, 63.24000000000001, 29.930000000000007, 57.44999999999999, 28.95999999999998, 55.51999999999998, 29.930000000000007, 44.41999999999999, 33.789999999999964, 43.92999999999998, 30.889999999999986, 27.519999999999982, 35.24000000000001, 23.169999999999987, 33.31, 19.310000000000002, 33.31, 16.899999999999977, 33.31, 14.48999999999998, 33.31, 11.590000000000003, 34.26999999999998, 9.169999999999987, 35.24000000000001, 6.280000000000001]\n"
     ]
    },
    {
     "data": {
      "text/plain": [
       "<matplotlib.image.AxesImage at 0x7f567398b9e8>"
      ]
     },
     "execution_count": 53,
     "metadata": {},
     "output_type": "execute_result"
    },
    {
     "data": {
      "image/png": "[encoded data removed]",
      "text/plain": [
       "<Figure size 432x288 with 1 Axes>"
      ]
     },
     "metadata": {},
     "output_type": "display_data"
    }
   ],
   "source": [
    "t_list = list()\n",
    "t_list.append(sample_ann)\n",
    "print(type(sample_ann[0]['image_id']))\n",
    "\n",
    "print(sample_ann[0]['segmentation'][0])\n",
    "\n",
    "plt.imshow(coco.annToMask(sample_ann[0])[0:500,0:500])"
   ]
  },
  {
   "cell_type": "code",
   "execution_count": null,
   "metadata": {},
   "outputs": [],
   "source": []
  },
  {
   "cell_type": "code",
   "execution_count": null,
   "metadata": {},
   "outputs": [],
   "source": []
  }
 ],
 "metadata": {
  "kernelspec": {
   "display_name": "Python 3",
   "language": "python",
   "name": "python3"
  },
  "language_info": {
   "codemirror_mode": {
    "name": "ipython",
    "version": 3
   },
   "file_extension": ".py",
   "mimetype": "text/x-python",
   "name": "python",
   "nbconvert_exporter": "python",
   "pygments_lexer": "ipython3",
   "version": "3.5.2"
  }
 },
 "nbformat": 4,
 "nbformat_minor": 2
}
