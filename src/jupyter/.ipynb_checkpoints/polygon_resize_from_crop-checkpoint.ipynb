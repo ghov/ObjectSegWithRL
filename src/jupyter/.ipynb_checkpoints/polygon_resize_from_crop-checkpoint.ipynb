{
 "cells": [
  {
   "cell_type": "code",
   "execution_count": 1,
   "metadata": {},
   "outputs": [],
   "source": [
    "# If we generate a new image by cropping it from an older image, then we also need to change the polygon\n",
    "# in order to make it fit the new cropped image."
   ]
  },
  {
   "cell_type": "code",
   "execution_count": 81,
   "metadata": {},
   "outputs": [],
   "source": [
    "#from os import listdir\n",
    "from torchvision.transforms import Resize\n",
    "from PIL import Image\n",
    "import skimage.io as io\n",
    "%matplotlib inline\n",
    "from pycocotools.coco import COCO\n",
    "from os import listdir\n",
    "import matplotlib.pyplot as plt\n",
    "import numpy as np\n",
    "from skimage.transform import resize\n",
    "from skimage.transform import rescale"
   ]
  },
  {
   "cell_type": "code",
   "execution_count": 82,
   "metadata": {},
   "outputs": [],
   "source": [
    "read_directory = '/media/greghovhannisyan/BackupData1/mscoco/images/train2017/'\n",
    "#write_directory = '/media/greghovhannisyan/BackupData1/mscoco/images/resized_images/train_2017_224_224/'\n",
    "annFile = '/media/greghovhannisyan/BackupData1/mscoco/annotations/instances/instances_train2017.json'\n",
    "bbox_crop_dir = '/media/greghovhannisyan/BackupData1/mscoco/images/train2017_crop_bbox/'"
   ]
  },
  {
   "cell_type": "code",
   "execution_count": 83,
   "metadata": {},
   "outputs": [
    {
     "name": "stdout",
     "output_type": "stream",
     "text": [
      "loading annotations into memory...\n",
      "Done (t=16.72s)\n",
      "creating index...\n",
      "index created!\n"
     ]
    }
   ],
   "source": [
    "# initialize COCO api for instance annotations\n",
    "coco=COCO(annFile)"
   ]
  },
  {
   "cell_type": "code",
   "execution_count": 84,
   "metadata": {},
   "outputs": [
    {
     "name": "stdout",
     "output_type": "stream",
     "text": [
      "[235.3, 200.74, 42.48, 97.04]\n",
      "[270.54, 205.57, 264.75, 202.19, 258.95, 200.74, 252.68, 201.23, 246.4, 202.19, 241.09, 203.64, 236.75, 205.09, 236.26, 207.98, 235.3, 208.47, 236.75, 211.36, 238.68, 212.33, 239.64, 215.71, 239.64, 220.54, 237.23, 237.91, 237.23, 245.16, 237.23, 249.98, 240.61, 255.29, 242.54, 258.19, 246.88, 260.12, 251.71, 263.5, 253.64, 267.36, 253.64, 270.74, 255.57, 281.85, 253.16, 286.67, 249.3, 288.6, 246.88, 290.05, 243.99, 290.54, 239.64, 291.98, 239.64, 294.4, 242.54, 296.81, 246.4, 297.29, 257.02, 297.78, 257.02, 297.78, 262.33, 297.78, 263.78, 297.78, 270.54, 293.92, 277.78, 292.95, 276.82, 287.64, 268.61, 286.19, 264.26, 283.29, 262.33, 273.64, 262.33, 268.81, 262.33, 263.98, 265.23, 258.19, 264.26, 256.26, 265.23, 245.16, 269.09, 244.67, 266.19, 228.26, 270.54, 223.91, 268.61, 220.05, 268.61, 217.64, 268.61, 215.23, 268.61, 212.33, 269.57, 209.91, 270.54, 207.02]\n"
     ]
    }
   ],
   "source": [
    "sample_ann_id = 1874298\n",
    "temp_list = list()\n",
    "temp_list.append(sample_ann_id)\n",
    "sample_ann = coco.loadAnns(temp_list)\n",
    "print(sample_ann[0]['bbox'])\n",
    "print(sample_ann[0]['segmentation'][0])\n",
    "\n",
    "xmin = sample_ann[0]['bbox'][0]\n",
    "ymin = sample_ann[0]['bbox'][1]\n",
    "temp_seg = sample_ann[0]['segmentation'][0]\n",
    "\n",
    "new_seg = list()\n",
    "length = len(temp_seg)\n",
    "#print(length)\n",
    "\n",
    "for i in range(0,length, 2):\n",
    "    new_seg.append(temp_seg[i]-xmin)\n",
    "    new_seg.append(temp_seg[i+1]-ymin)\n",
    "    \n",
    "#print(temp_list)\n",
    "#print(annIds)"
   ]
  },
  {
   "cell_type": "code",
   "execution_count": 85,
   "metadata": {},
   "outputs": [],
   "source": [
    "sample_ann[0]['segmentation'][0] = new_seg"
   ]
  },
  {
   "cell_type": "code",
   "execution_count": 87,
   "metadata": {},
   "outputs": [
    {
     "name": "stdout",
     "output_type": "stream",
     "text": [
      "(97, 42, 3)\n"
     ]
    },
    {
     "data": {
      "text/plain": [
       "<matplotlib.image.AxesImage at 0x7f567396d208>"
      ]
     },
     "execution_count": 87,
     "metadata": {},
     "output_type": "execute_result"
    },
    {
     "data": {
      "image/png": "[encoded data removed]",
      "text/plain": [
       "<Figure size 432x288 with 1 Axes>"
      ]
     },
     "metadata": {},
     "output_type": "display_data"
    }
   ],
   "source": [
    "I = io.imread(bbox_crop_dir + str(sample_ann_id) + '.jpg')\n",
    "print(I.shape)\n",
    "plt.figure(); plt.axis('off')\n",
    "plt.imshow(I)"
   ]
  },
  {
   "cell_type": "code",
   "execution_count": 99,
   "metadata": {},
   "outputs": [
    {
     "name": "stdout",
     "output_type": "stream",
     "text": [
      "<class 'int'>\n"
     ]
    },
    {
     "data": {
      "text/plain": [
       "<matplotlib.image.AxesImage at 0x7f55cbf9ccf8>"
      ]
     },
     "execution_count": 99,
     "metadata": {},
     "output_type": "execute_result"
    },
    {
     "data": {
      "image/png": "[encoded data removed]",
      "text/plain": [
       "<Figure size 432x288 with 1 Axes>"
      ]
     },
     "metadata": {},
     "output_type": "display_data"
    }
   ],
   "source": [
    "t_list = list()\n",
    "t_list.append(sample_ann)\n",
    "print(type(sample_ann[0]['image_id']))\n",
    "\n",
    "#print(sample_ann[0]['segmentation'][0])\n",
    "\n",
    "plt.imshow(coco.annToMask(sample_ann[0])[0:100,0:100])"
   ]
  },
  {
   "cell_type": "code",
   "execution_count": 89,
   "metadata": {},
   "outputs": [
    {
     "name": "stdout",
     "output_type": "stream",
     "text": [
      "(116, 105, 3)\n"
     ]
    },
    {
     "name": "stderr",
     "output_type": "stream",
     "text": [
      "/usr/local/lib/python3.5/dist-packages/skimage/transform/_warps.py:24: UserWarning: The default multichannel argument (None) is deprecated.  Please specify either True or False explicitly.  multichannel will default to False starting with release 0.16.\n",
      "  warn('The default multichannel argument (None) is deprecated.  Please '\n",
      "/usr/local/lib/python3.5/dist-packages/skimage/transform/_warps.py:105: UserWarning: The default mode, 'constant', will be changed to 'reflect' in skimage 0.15.\n",
      "  warn(\"The default mode, 'constant', will be changed to 'reflect' in \"\n",
      "/usr/local/lib/python3.5/dist-packages/skimage/transform/_warps.py:110: UserWarning: Anti-aliasing will be enabled by default in skimage 0.15 to avoid aliasing artifacts when down-sampling images.\n",
      "  warn(\"Anti-aliasing will be enabled by default in skimage 0.15 to \"\n"
     ]
    },
    {
     "data": {
      "text/plain": [
       "<matplotlib.image.AxesImage at 0x7f55cc127d30>"
      ]
     },
     "execution_count": 89,
     "metadata": {},
     "output_type": "execute_result"
    },
    {
     "data": {
      "image/png": "[encoded data removed]",
      "text/plain": [
       "<Figure size 432x288 with 1 Axes>"
      ]
     },
     "metadata": {},
     "output_type": "display_data"
    }
   ],
   "source": [
    "I = io.imread(bbox_crop_dir + str(sample_ann_id) + '.jpg')\n",
    "re_I = rescale(I,(1.2,2.5))\n",
    "print(re_I.shape)\n",
    "plt.figure(); plt.axis('off')\n",
    "plt.imshow(re_I)"
   ]
  },
  {
   "cell_type": "code",
   "execution_count": 90,
   "metadata": {},
   "outputs": [
    {
     "name": "stdout",
     "output_type": "stream",
     "text": [
      "2.5\n",
      "1.1958762886597938\n"
     ]
    }
   ],
   "source": [
    "height_old, width_old, _ = I.shape\n",
    "height_new, width_new, _ = re_I.shape\n",
    "\n",
    "x_ratio = width_new / width_old\n",
    "y_ratio = height_new / height_old\n",
    "\n",
    "print(x_ratio)\n",
    "print(y_ratio)\n",
    "\n",
    "res_seg = list()\n",
    "\n",
    "temp_seg1 = sample_ann[0]['segmentation'][0]\n",
    "\n",
    "for i in range(0,length, 2):\n",
    "    res_seg.append(temp_seg1[i] * x_ratio)\n",
    "    res_seg.append(temp_seg1[i+1] * y_ratio)\n",
    "    \n",
    "sample_ann[0]['segmentation'][0] = res_seg    "
   ]
  },
  {
   "cell_type": "code",
   "execution_count": 95,
   "metadata": {},
   "outputs": [
    {
     "data": {
      "text/plain": [
       "<matplotlib.image.AxesImage at 0x7f55cc0c9c50>"
      ]
     },
     "execution_count": 95,
     "metadata": {},
     "output_type": "execute_result"
    },
    {
     "data": {
      "image/png": "[encoded data removed]",
      "text/plain": [
       "<Figure size 432x288 with 1 Axes>"
      ]
     },
     "metadata": {},
     "output_type": "display_data"
    }
   ],
   "source": [
    "re_list = list()\n",
    "re_list.append(sample_ann)\n",
    "#print(type(sample_ann[0]['image_id']))\n",
    "\n",
    "#print(sample_ann[0]['segmentation'][0])\n",
    "\n",
    "plt.imshow(coco.annToMask(sample_ann[0])[0:116,0:105])"
   ]
  },
  {
   "cell_type": "code",
   "execution_count": 93,
   "metadata": {},
   "outputs": [
    {
     "data": {
      "text/plain": [
       "[88.10000000000002,\n",
       " 5.776082474226785,\n",
       " 73.62499999999997,\n",
       " 1.7340206185566873,\n",
       " 59.12499999999994,\n",
       " 0.0,\n",
       " 43.44999999999999,\n",
       " 0.5859793814432759,\n",
       " 27.749999999999986,\n",
       " 1.7340206185566873,\n",
       " 14.47499999999998,\n",
       " 3.4680412371133746,\n",
       " 3.6249999999999716,\n",
       " 5.202061855670096,\n",
       " 2.399999999999949,\n",
       " 8.658144329896883,\n",
       " 0.0,\n",
       " 9.244123711340194,\n",
       " 3.6249999999999716,\n",
       " 12.700206185567016,\n",
       " 8.449999999999989,\n",
       " 13.860206185567014,\n",
       " 10.849999999999937,\n",
       " 17.90226804123711,\n",
       " 10.849999999999937,\n",
       " 23.678350515463897,\n",
       " 4.824999999999946,\n",
       " 44.45072164948452,\n",
       " 4.824999999999946,\n",
       " 53.12082474226803,\n",
       " 4.824999999999946,\n",
       " 58.884948453608224,\n",
       " 13.275000000000006,\n",
       " 65.23505154639173,\n",
       " 18.09999999999995,\n",
       " 68.70309278350514,\n",
       " 28.94999999999996,\n",
       " 71.01113402061856,\n",
       " 41.02499999999999,\n",
       " 75.05319587628864,\n",
       " 45.84999999999994,\n",
       " 79.66927835051547,\n",
       " 45.84999999999994,\n",
       " 83.71134020618557,\n",
       " 50.674999999999955,\n",
       " 96.99752577319589,\n",
       " 44.64999999999996,\n",
       " 102.7616494845361,\n",
       " 35.0,\n",
       " 105.0696907216495,\n",
       " 28.94999999999996,\n",
       " 106.80371134020619,\n",
       " 21.724999999999994,\n",
       " 107.3896907216495,\n",
       " 10.849999999999937,\n",
       " 109.11175257731959,\n",
       " 10.849999999999937,\n",
       " 112.00577319587624,\n",
       " 18.09999999999995,\n",
       " 114.88783505154638,\n",
       " 27.749999999999986,\n",
       " 115.4618556701031,\n",
       " 54.299999999999926,\n",
       " 116.04783505154634,\n",
       " 54.299999999999926,\n",
       " 116.04783505154634,\n",
       " 67.57499999999993,\n",
       " 116.04783505154634,\n",
       " 71.1999999999999,\n",
       " 116.04783505154634,\n",
       " 88.10000000000002,\n",
       " 111.4317525773196,\n",
       " 106.1999999999999,\n",
       " 110.27175257731956,\n",
       " 103.79999999999995,\n",
       " 103.92164948453605,\n",
       " 83.275,\n",
       " 102.18762886597936,\n",
       " 72.39999999999995,\n",
       " 98.719587628866,\n",
       " 67.57499999999993,\n",
       " 87.17938144329894,\n",
       " 67.57499999999993,\n",
       " 81.40329896907215,\n",
       " 67.57499999999993,\n",
       " 75.62721649484537,\n",
       " 74.82500000000002,\n",
       " 68.70309278350514,\n",
       " 72.39999999999995,\n",
       " 66.39505154639173,\n",
       " 74.82500000000002,\n",
       " 53.12082474226803,\n",
       " 84.47499999999991,\n",
       " 52.53484536082472,\n",
       " 77.22499999999997,\n",
       " 32.910515463917505,\n",
       " 88.10000000000002,\n",
       " 27.708453608247407,\n",
       " 83.275,\n",
       " 23.09237113402062,\n",
       " 83.275,\n",
       " 20.210309278350486,\n",
       " 83.275,\n",
       " 17.328247422680388,\n",
       " 83.275,\n",
       " 13.860206185567014,\n",
       " 85.67499999999995,\n",
       " 10.966185567010294,\n",
       " 88.10000000000002,\n",
       " 7.510103092783506]"
      ]
     },
     "execution_count": 93,
     "metadata": {},
     "output_type": "execute_result"
    }
   ],
   "source": [
    "sample_ann[0]['segmentation'][0]"
   ]
  },
  {
   "cell_type": "code",
   "execution_count": null,
   "metadata": {},
   "outputs": [],
   "source": []
  }
 ],
 "metadata": {
  "kernelspec": {
   "display_name": "Python 3",
   "language": "python",
   "name": "python3"
  },
  "language_info": {
   "codemirror_mode": {
    "name": "ipython",
    "version": 3
   },
   "file_extension": ".py",
   "mimetype": "text/x-python",
   "name": "python",
   "nbconvert_exporter": "python",
   "pygments_lexer": "ipython3",
   "version": "3.5.2"
  }
 },
 "nbformat": 4,
 "nbformat_minor": 2
}
