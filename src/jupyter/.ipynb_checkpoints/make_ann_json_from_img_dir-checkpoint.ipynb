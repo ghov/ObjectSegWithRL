{
 "cells": [
  {
   "cell_type": "code",
   "execution_count": 1,
   "metadata": {},
   "outputs": [],
   "source": [
    "from os import listdir\n",
    "import json"
   ]
  },
  {
   "cell_type": "code",
   "execution_count": 2,
   "metadata": {},
   "outputs": [],
   "source": [
    "def make_ann_file_from_img_dir(img_dir_path, ann_read_path, ann_write_path):\n",
    "    new_dict = dict()\n",
    "    \n",
    "    with open(ann_read_path, 'r') as read_ann:\n",
    "        ann_json = json.load(read_ann)\n",
    "    \n",
    "    for filename in listdir(img_dir_path):\n",
    "        new_dict[filename.split(\".\")[0]] = ann_json[filename.split(\".\")[0]]\n",
    "        \n",
    "    with open(ann_write_path, 'w') as ann_write:\n",
    "        json.dump(new_dict, ann_write)"
   ]
  },
  {
   "cell_type": "code",
   "execution_count": 3,
   "metadata": {},
   "outputs": [],
   "source": [
    "ann_read_path = '/media/greghovhannisyan/BackupData1/mscoco/annotations/by_vertex/30_vertex_poly_adjusted.json'\n",
    "ann_write_path = '/media/greghovhannisyan/BackupData1/mscoco/annotations/by_vertex/temp30.json'\n",
    "img_dir_path = '/media/greghovhannisyan/BackupData1/mscoco/images/by_vertex/temp_30/'"
   ]
  },
  {
   "cell_type": "code",
   "execution_count": 5,
   "metadata": {},
   "outputs": [],
   "source": [
    "make_ann_file_from_img_dir(img_dir_path, ann_read_path, ann_write_path)"
   ]
  },
  {
   "cell_type": "code",
   "execution_count": null,
   "metadata": {},
   "outputs": [],
   "source": []
  }
 ],
 "metadata": {
  "kernelspec": {
   "display_name": "Python 3",
   "language": "python",
   "name": "python3"
  },
  "language_info": {
   "codemirror_mode": {
    "name": "ipython",
    "version": 3
   },
   "file_extension": ".py",
   "mimetype": "text/x-python",
   "name": "python",
   "nbconvert_exporter": "python",
   "pygments_lexer": "ipython3",
   "version": "3.5.2"
  }
 },
 "nbformat": 4,
 "nbformat_minor": 2
}
