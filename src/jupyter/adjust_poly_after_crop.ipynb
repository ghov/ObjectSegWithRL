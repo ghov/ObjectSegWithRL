{
 "cells": [
  {
   "cell_type": "code",
   "execution_count": 1,
   "metadata": {},
   "outputs": [],
   "source": [
    "#from os import listdir\n",
    "from torchvision.transforms import Resize\n",
    "from PIL import Image\n",
    "import skimage.io as io\n",
    "%matplotlib inline\n",
    "from pycocotools.coco import COCO\n",
    "from os import listdir\n",
    "import matplotlib.pyplot as plt\n",
    "import numpy as np\n",
    "from skimage.transform import resize\n",
    "from skimage.transform import rescale\n",
    "import json\n",
    "import os"
   ]
  },
  {
   "cell_type": "code",
   "execution_count": 45,
   "metadata": {},
   "outputs": [],
   "source": [
    "read_directory = '/media/greghovhannisyan/BackupData1/mscoco/images/train2017_crop_bbox/'\n",
    "write_file_path = '/home/greghovhannisyan/PycharmProjects/towards_rlnn_cnn/ObjectSegWithRL/data/train_2017_bbox_crop_polygons_adjusted.json'\n",
    "annFile = '/media/greghovhannisyan/BackupData1/mscoco/annotations/instances/instances_train2017.json'\n",
    "vertex_json_path = '/home/greghovhannisyan/PycharmProjects/towards_rlnn_cnn/ObjectSegWithRL/data/vertex_count_segmentation_ids.json'\n",
    "bbox_json_path = '/home/greghovhannisyan/PycharmProjects/towards_rlnn_cnn/ObjectSegWithRL/data/bbox_crop_shape_gte10k.json'"
   ]
  },
  {
   "cell_type": "code",
   "execution_count": 3,
   "metadata": {},
   "outputs": [],
   "source": [
    "import sys\n",
    "sys.path.insert(0, os.path.abspath('..'))\n",
    "# from /home/greghovhannisyan/PycharmProjects/towards_rlnn_cnn/ObjectSegWithRL/src/resize_functions.py import *"
   ]
  },
  {
   "cell_type": "code",
   "execution_count": 4,
   "metadata": {},
   "outputs": [
    {
     "data": {
      "text/plain": [
       "['/home/greghovhannisyan/PycharmProjects/towards_rlnn_cnn/ObjectSegWithRL/src',\n",
       " '',\n",
       " '/usr/lib/python35.zip',\n",
       " '/usr/lib/python3.5',\n",
       " '/usr/lib/python3.5/plat-x86_64-linux-gnu',\n",
       " '/usr/lib/python3.5/lib-dynload',\n",
       " '/usr/local/lib/python3.5/dist-packages',\n",
       " '/usr/local/lib/python3.5/dist-packages/pycocotools-2.0-py3.5-linux-x86_64.egg',\n",
       " '/usr/local/lib/python3.5/dist-packages/matplotlib-2.2.2-py3.5-linux-x86_64.egg',\n",
       " '/usr/local/lib/python3.5/dist-packages/kiwisolver-1.0.1-py3.5-linux-x86_64.egg',\n",
       " '/usr/lib/python3/dist-packages',\n",
       " '/usr/local/lib/python3.5/dist-packages/IPython/extensions',\n",
       " '/home/greghovhannisyan/.ipython']"
      ]
     },
     "execution_count": 4,
     "metadata": {},
     "output_type": "execute_result"
    }
   ],
   "source": [
    "sys.path"
   ]
  },
  {
   "cell_type": "code",
   "execution_count": 5,
   "metadata": {},
   "outputs": [],
   "source": [
    "from resize_functions import *"
   ]
  },
  {
   "cell_type": "code",
   "execution_count": 6,
   "metadata": {},
   "outputs": [
    {
     "name": "stdout",
     "output_type": "stream",
     "text": [
      "loading annotations into memory...\n",
      "Done (t=17.08s)\n",
      "creating index...\n",
      "index created!\n"
     ]
    }
   ],
   "source": [
    "# initialize COCO api for instance annotations\n",
    "coco=COCO(annFile)"
   ]
  },
  {
   "cell_type": "code",
   "execution_count": 26,
   "metadata": {},
   "outputs": [],
   "source": [
    "with open(vertex_json_path, 'r') as read_vertex:\n",
    "    shape_json = json.load(read_vertex)\n",
    "\n",
    "combined_shape_list = list()\n",
    "# combine the shape_json\n",
    "for key in shape_json:\n",
    "    combined_shape_list.extend(shape_json[key])"
   ]
  },
  {
   "cell_type": "code",
   "execution_count": 27,
   "metadata": {},
   "outputs": [],
   "source": [
    "seg_anns = coco.loadAnns(combined_shape_list)"
   ]
  },
  {
   "cell_type": "code",
   "execution_count": 28,
   "metadata": {},
   "outputs": [],
   "source": [
    "new_poly = dict()\n",
    "for ann in seg_anns:\n",
    "    #print(str(ann['id']) + \"yes\")\n",
    "    new_poly[ann['id']] = adjust_poly_crop(ann['bbox'], ann['segmentation'][0])"
   ]
  },
  {
   "cell_type": "code",
   "execution_count": 47,
   "metadata": {},
   "outputs": [],
   "source": [
    "with open(write_file_path, 'w') as write_file:\n",
    "    json.dump(new_poly, write_file, sort_keys=True, indent=4)"
   ]
  },
  {
   "cell_type": "code",
   "execution_count": 43,
   "metadata": {},
   "outputs": [
    {
     "name": "stdout",
     "output_type": "stream",
     "text": [
      "[109.39, 252.45, 135.54, 256.52, 145.42, 267.56, 150.65, 239.66, 152.39, 211.77, 143.68, 197.82, 152.39, 176.9, 133.22, 162.37, 116.36, 169.34, 118.69, 185.61, 111.71, 205.96, 105.9, 247.22]\n",
      "[4.390000000000001, 90.44999999999999, 30.539999999999992, 94.51999999999998, 40.41999999999999, 105.56, 45.650000000000006, 77.66, 47.389999999999986, 49.77000000000001, 38.68000000000001, 35.81999999999999, 47.389999999999986, 14.900000000000006, 28.22, 0.37000000000000455, 11.36, 7.340000000000003, 13.689999999999998, 23.610000000000014, 6.709999999999994, 43.96000000000001, 0.9000000000000057, 85.22]\n",
      "[105.9, 162.37, 46.49, 105.19]\n"
     ]
    }
   ],
   "source": [
    "n = 100000\n",
    "print(seg_anns[n]['segmentation'][0])\n",
    "print(new_poly[seg_anns[n]['id']])\n",
    "print(seg_anns[n]['bbox'])"
   ]
  },
  {
   "cell_type": "code",
   "execution_count": 21,
   "metadata": {},
   "outputs": [
    {
     "name": "stdout",
     "output_type": "stream",
     "text": [
      "423653\n",
      "423653\n"
     ]
    },
    {
     "data": {
      "text/plain": [
       "{'area': 46841.23255000001,\n",
       " 'bbox': [305.18, 59.12, 255.68, 297.06],\n",
       " 'category_id': 1,\n",
       " 'id': 423653,\n",
       " 'image_id': 576817,\n",
       " 'iscrowd': 0,\n",
       " 'segmentation': [[528.39,\n",
       "   356.18,\n",
       "   534.07,\n",
       "   329.4,\n",
       "   560.86,\n",
       "   315.6,\n",
       "   546.25,\n",
       "   212.52,\n",
       "   501.61,\n",
       "   182.49,\n",
       "   480.5,\n",
       "   172.75,\n",
       "   477.26,\n",
       "   165.44,\n",
       "   496.74,\n",
       "   133.79,\n",
       "   490.24,\n",
       "   81.84,\n",
       "   448.85,\n",
       "   59.12,\n",
       "   403.39,\n",
       "   85.09,\n",
       "   390.41,\n",
       "   131.35,\n",
       "   400.96,\n",
       "   171.94,\n",
       "   402.58,\n",
       "   180.05,\n",
       "   366.87,\n",
       "   188.98,\n",
       "   336.84,\n",
       "   226.32,\n",
       "   332.78,\n",
       "   262.03,\n",
       "   331.97,\n",
       "   292.06,\n",
       "   331.16,\n",
       "   295.31,\n",
       "   306.81,\n",
       "   334.27,\n",
       "   305.18,\n",
       "   353.75]]}"
      ]
     },
     "execution_count": 21,
     "metadata": {},
     "output_type": "execute_result"
    }
   ],
   "source": [
    "print(seg_anns[0]['id'])\n",
    "print(combined_shape_list[0])\n",
    "seg_anns[0]"
   ]
  },
  {
   "cell_type": "code",
   "execution_count": 13,
   "metadata": {},
   "outputs": [
    {
     "data": {
      "text/plain": [
       "[528.39,\n",
       " 356.18,\n",
       " 534.07,\n",
       " 329.4,\n",
       " 560.86,\n",
       " 315.6,\n",
       " 546.25,\n",
       " 212.52,\n",
       " 501.61,\n",
       " 182.49,\n",
       " 480.5,\n",
       " 172.75,\n",
       " 477.26,\n",
       " 165.44,\n",
       " 496.74,\n",
       " 133.79,\n",
       " 490.24,\n",
       " 81.84,\n",
       " 448.85,\n",
       " 59.12,\n",
       " 403.39,\n",
       " 85.09,\n",
       " 390.41,\n",
       " 131.35,\n",
       " 400.96,\n",
       " 171.94,\n",
       " 402.58,\n",
       " 180.05,\n",
       " 366.87,\n",
       " 188.98,\n",
       " 336.84,\n",
       " 226.32,\n",
       " 332.78,\n",
       " 262.03,\n",
       " 331.97,\n",
       " 292.06,\n",
       " 331.16,\n",
       " 295.31,\n",
       " 306.81,\n",
       " 334.27,\n",
       " 305.18,\n",
       " 353.75]"
      ]
     },
     "execution_count": 13,
     "metadata": {},
     "output_type": "execute_result"
    }
   ],
   "source": [
    "seg_anns[0]['segmentation'][0]"
   ]
  },
  {
   "cell_type": "code",
   "execution_count": 15,
   "metadata": {},
   "outputs": [
    {
     "name": "stdout",
     "output_type": "stream",
     "text": [
      "[223.39, 297.18, 229.07000000000005, 270.4, 255.86, 256.6, 241.25, 153.52, 196.61, 123.49000000000001, 175.5, 113.75, 172.26, 106.44, 191.74, 74.78999999999999, 185.24, 22.840000000000003, 143.85000000000002, 0.11999999999999744, 98.38999999999999, 26.090000000000003, 85.41000000000003, 72.35, 95.95999999999998, 112.94, 97.57999999999998, 121.05000000000001, 61.870000000000005, 129.98, 31.839999999999975, 167.32, 27.779999999999973, 203.02999999999997, 26.970000000000027, 233.06, 26.160000000000025, 236.31, 1.8100000000000023, 275.27, 0.18000000000000682, 294.75]\n"
     ]
    }
   ],
   "source": [
    "print(adjust_poly_crop(seg_anns[0]['bbox'], seg_anns[0]['segmentation'][0]))"
   ]
  },
  {
   "cell_type": "code",
   "execution_count": 16,
   "metadata": {},
   "outputs": [
    {
     "data": {
      "text/plain": [
       "[305.18, 59.12, 255.68, 297.06]"
      ]
     },
     "execution_count": 16,
     "metadata": {},
     "output_type": "execute_result"
    }
   ],
   "source": [
    "seg_anns[0]['bbox']"
   ]
  },
  {
   "cell_type": "code",
   "execution_count": null,
   "metadata": {},
   "outputs": [],
   "source": []
  }
 ],
 "metadata": {
  "kernelspec": {
   "display_name": "Python 3",
   "language": "python",
   "name": "python3"
  },
  "language_info": {
   "codemirror_mode": {
    "name": "ipython",
    "version": 3
   },
   "file_extension": ".py",
   "mimetype": "text/x-python",
   "name": "python",
   "nbconvert_exporter": "python",
   "pygments_lexer": "ipython3",
   "version": "3.5.2"
  }
 },
 "nbformat": 4,
 "nbformat_minor": 2
}
