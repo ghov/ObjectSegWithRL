{
 "cells": [
  {
   "cell_type": "code",
   "execution_count": 1,
   "metadata": {},
   "outputs": [],
   "source": [
    "import numpy as np\n",
    "import skimage.io as io\n",
    "from skimage.transform import resize\n",
    "import matplotlib.pyplot as plt\n",
    "import os\n",
    "import json\n",
    "%matplotlib inline"
   ]
  },
  {
   "cell_type": "code",
   "execution_count": 2,
   "metadata": {},
   "outputs": [],
   "source": [
    "bbox_crop_dir = '/media/greghovhannisyan/BackupData1/mscoco/images/train2017_crop_bbox/'"
   ]
  },
  {
   "cell_type": "code",
   "execution_count": 8,
   "metadata": {},
   "outputs": [
    {
     "name": "stdout",
     "output_type": "stream",
     "text": [
      "(12, 8)\n"
     ]
    },
    {
     "ename": "ValueError",
     "evalue": "not enough values to unpack (expected 3, got 2)",
     "output_type": "error",
     "traceback": [
      "\u001b[0;31m---------------------------------------------------------------------------\u001b[0m",
      "\u001b[0;31mValueError\u001b[0m                                Traceback (most recent call last)",
      "\u001b[0;32m<ipython-input-8-cbc5453bdef1>\u001b[0m in \u001b[0;36m<module>\u001b[0;34m()\u001b[0m\n\u001b[1;32m      2\u001b[0m \u001b[0mI\u001b[0m \u001b[0;34m=\u001b[0m \u001b[0mio\u001b[0m\u001b[0;34m.\u001b[0m\u001b[0mimread\u001b[0m\u001b[0;34m(\u001b[0m\u001b[0mbbox_crop_dir\u001b[0m \u001b[0;34m+\u001b[0m \u001b[0mstr\u001b[0m\u001b[0;34m(\u001b[0m\u001b[0msample_ann_id\u001b[0m\u001b[0;34m)\u001b[0m \u001b[0;34m+\u001b[0m \u001b[0;34m'.jpg'\u001b[0m\u001b[0;34m)\u001b[0m\u001b[0;34m\u001b[0m\u001b[0m\n\u001b[1;32m      3\u001b[0m \u001b[0mprint\u001b[0m\u001b[0;34m(\u001b[0m\u001b[0mI\u001b[0m\u001b[0;34m.\u001b[0m\u001b[0mshape\u001b[0m\u001b[0;34m)\u001b[0m\u001b[0;34m\u001b[0m\u001b[0m\n\u001b[0;32m----> 4\u001b[0;31m \u001b[0mheight\u001b[0m\u001b[0;34m,\u001b[0m \u001b[0mwidth\u001b[0m\u001b[0;34m,\u001b[0m \u001b[0m_\u001b[0m \u001b[0;34m=\u001b[0m \u001b[0mI\u001b[0m\u001b[0;34m.\u001b[0m\u001b[0mshape\u001b[0m\u001b[0;34m\u001b[0m\u001b[0m\n\u001b[0m\u001b[1;32m      5\u001b[0m \u001b[0mprint\u001b[0m\u001b[0;34m(\u001b[0m\u001b[0mtype\u001b[0m\u001b[0;34m(\u001b[0m\u001b[0;34m(\u001b[0m\u001b[0mheight\u001b[0m\u001b[0;34m,\u001b[0m \u001b[0mwidth\u001b[0m\u001b[0;34m)\u001b[0m\u001b[0;34m)\u001b[0m\u001b[0;34m)\u001b[0m\u001b[0;34m\u001b[0m\u001b[0m\n\u001b[1;32m      6\u001b[0m \u001b[0mplt\u001b[0m\u001b[0;34m.\u001b[0m\u001b[0mfigure\u001b[0m\u001b[0;34m(\u001b[0m\u001b[0;34m)\u001b[0m\u001b[0;34m;\u001b[0m \u001b[0mplt\u001b[0m\u001b[0;34m.\u001b[0m\u001b[0maxis\u001b[0m\u001b[0;34m(\u001b[0m\u001b[0;34m'off'\u001b[0m\u001b[0;34m)\u001b[0m\u001b[0;34m\u001b[0m\u001b[0m\n",
      "\u001b[0;31mValueError\u001b[0m: not enough values to unpack (expected 3, got 2)"
     ]
    }
   ],
   "source": [
    "sample_ann_id = 1874298\n",
    "I = io.imread(bbox_crop_dir + str(sample_ann_id) + '.jpg')\n",
    "print(I.shape)\n",
    "height, width, _ = I.shape\n",
    "print(type((height, width)))\n",
    "plt.figure(); plt.axis('off')\n",
    "plt.imshow(I)"
   ]
  },
  {
   "cell_type": "code",
   "execution_count": 19,
   "metadata": {},
   "outputs": [
    {
     "ename": "NameError",
     "evalue": "name 'rescale' is not defined",
     "output_type": "error",
     "traceback": [
      "\u001b[0;31m---------------------------------------------------------------------------\u001b[0m",
      "\u001b[0;31mNameError\u001b[0m                                 Traceback (most recent call last)",
      "\u001b[0;32m<ipython-input-19-6013207943d1>\u001b[0m in \u001b[0;36m<module>\u001b[0;34m()\u001b[0m\n\u001b[1;32m      1\u001b[0m \u001b[0msample_ann_id\u001b[0m \u001b[0;34m=\u001b[0m \u001b[0;36m1874298\u001b[0m\u001b[0;34m\u001b[0m\u001b[0m\n\u001b[1;32m      2\u001b[0m \u001b[0mI\u001b[0m \u001b[0;34m=\u001b[0m \u001b[0mio\u001b[0m\u001b[0;34m.\u001b[0m\u001b[0mimread\u001b[0m\u001b[0;34m(\u001b[0m\u001b[0mbbox_crop_dir\u001b[0m \u001b[0;34m+\u001b[0m \u001b[0mstr\u001b[0m\u001b[0;34m(\u001b[0m\u001b[0msample_ann_id\u001b[0m\u001b[0;34m)\u001b[0m \u001b[0;34m+\u001b[0m \u001b[0;34m'.jpg'\u001b[0m\u001b[0;34m)\u001b[0m\u001b[0;34m\u001b[0m\u001b[0m\n\u001b[0;32m----> 3\u001b[0;31m \u001b[0mre_I\u001b[0m \u001b[0;34m=\u001b[0m \u001b[0mrescale\u001b[0m\u001b[0;34m(\u001b[0m\u001b[0mI\u001b[0m\u001b[0;34m,\u001b[0m\u001b[0;34m(\u001b[0m\u001b[0;36m100\u001b[0m\u001b[0;34m,\u001b[0m\u001b[0;36m100\u001b[0m\u001b[0;34m)\u001b[0m\u001b[0;34m)\u001b[0m\u001b[0;34m\u001b[0m\u001b[0m\n\u001b[0m\u001b[1;32m      4\u001b[0m \u001b[0mprint\u001b[0m\u001b[0;34m(\u001b[0m\u001b[0mre_I\u001b[0m\u001b[0;34m.\u001b[0m\u001b[0mshape\u001b[0m\u001b[0;34m)\u001b[0m\u001b[0;34m\u001b[0m\u001b[0m\n\u001b[1;32m      5\u001b[0m \u001b[0mplt\u001b[0m\u001b[0;34m.\u001b[0m\u001b[0mfigure\u001b[0m\u001b[0;34m(\u001b[0m\u001b[0;34m)\u001b[0m\u001b[0;34m;\u001b[0m \u001b[0mplt\u001b[0m\u001b[0;34m.\u001b[0m\u001b[0maxis\u001b[0m\u001b[0;34m(\u001b[0m\u001b[0;34m'off'\u001b[0m\u001b[0;34m)\u001b[0m\u001b[0;34m\u001b[0m\u001b[0m\n",
      "\u001b[0;31mNameError\u001b[0m: name 'rescale' is not defined"
     ]
    }
   ],
   "source": [
    "sample_ann_id = 1874298\n",
    "I = io.imread(bbox_crop_dir + str(sample_ann_id) + '.jpg')\n",
    "re_I = resize==(I,(100,100))\n",
    "print(re_I.shape)\n",
    "plt.figure(); plt.axis('off')\n",
    "plt.imshow(re_I)"
   ]
  },
  {
   "cell_type": "code",
   "execution_count": 3,
   "metadata": {},
   "outputs": [],
   "source": [
    "import sys\n",
    "sys.path.insert(0, os.path.abspath('..'))\n",
    "# from /home/greghovhannisyan/PycharmProjects/towards_rlnn_cnn/ObjectSegWithRL/src/resize_functions.py import *"
   ]
  },
  {
   "cell_type": "code",
   "execution_count": 4,
   "metadata": {},
   "outputs": [
    {
     "data": {
      "text/plain": [
       "['/home/greghovhannisyan/PycharmProjects/towards_rlnn_cnn/ObjectSegWithRL/src',\n",
       " '',\n",
       " '/usr/lib/python35.zip',\n",
       " '/usr/lib/python3.5',\n",
       " '/usr/lib/python3.5/plat-x86_64-linux-gnu',\n",
       " '/usr/lib/python3.5/lib-dynload',\n",
       " '/usr/local/lib/python3.5/dist-packages',\n",
       " '/usr/local/lib/python3.5/dist-packages/pycocotools-2.0-py3.5-linux-x86_64.egg',\n",
       " '/usr/local/lib/python3.5/dist-packages/matplotlib-2.2.2-py3.5-linux-x86_64.egg',\n",
       " '/usr/local/lib/python3.5/dist-packages/kiwisolver-1.0.1-py3.5-linux-x86_64.egg',\n",
       " '/usr/lib/python3/dist-packages',\n",
       " '/usr/local/lib/python3.5/dist-packages/IPython/extensions',\n",
       " '/home/greghovhannisyan/.ipython']"
      ]
     },
     "execution_count": 4,
     "metadata": {},
     "output_type": "execute_result"
    }
   ],
   "source": [
    "sys.path"
   ]
  },
  {
   "cell_type": "code",
   "execution_count": 5,
   "metadata": {},
   "outputs": [],
   "source": [
    "from resize_functions import *"
   ]
  },
  {
   "cell_type": "code",
   "execution_count": 6,
   "metadata": {},
   "outputs": [],
   "source": [
    "vertex_json_path = '/home/greghovhannisyan/PycharmProjects/towards_rlnn_cnn/ObjectSegWithRL/data/vertex_count_segmentation_ids.json'\n",
    "bbox_json_path = '/home/greghovhannisyan/PycharmProjects/towards_rlnn_cnn/ObjectSegWithRL/data/bbox_crop_shape_gte10k.json'"
   ]
  },
  {
   "cell_type": "code",
   "execution_count": 7,
   "metadata": {},
   "outputs": [],
   "source": [
    "new_shape_json = cross_check_json(vertex_json_path, bbox_json_path)"
   ]
  },
  {
   "cell_type": "code",
   "execution_count": 74,
   "metadata": {},
   "outputs": [],
   "source": [
    "# Load the jsons\n",
    "with open(vertex_json_path, 'r') as read_shape:\n",
    "    vertex_json = json.load(read_shape)\n",
    "\n",
    "with open(bbox_json_path, 'r') as read_vertex:\n",
    "    shape_json = json.load(read_vertex)\n",
    "\n",
    "combined_shape_list = list()\n",
    "# combine the shape_json\n",
    "for key in shape_json:\n",
    "    combined_shape_list.extend(shape_json[key])"
   ]
  },
  {
   "cell_type": "code",
   "execution_count": 75,
   "metadata": {},
   "outputs": [
    {
     "data": {
      "text/plain": [
       "280669"
      ]
     },
     "execution_count": 75,
     "metadata": {},
     "output_type": "execute_result"
    }
   ],
   "source": [
    "len(combined_shape_list)"
   ]
  },
  {
   "cell_type": "code",
   "execution_count": 76,
   "metadata": {},
   "outputs": [
    {
     "data": {
      "text/plain": [
       "False"
      ]
     },
     "execution_count": 76,
     "metadata": {},
     "output_type": "execute_result"
    }
   ],
   "source": [
    "1610395 in combined_shape_list"
   ]
  },
  {
   "cell_type": "code",
   "execution_count": null,
   "metadata": {},
   "outputs": [],
   "source": [
    "for key in vertex_json:\n",
    "    for val in vertex_json[key]:\n",
    "        if val not in combined_shape_list:\n",
    "            vertex_json[key].remove(val)"
   ]
  },
  {
   "cell_type": "code",
   "execution_count": 8,
   "metadata": {},
   "outputs": [],
   "source": [
    "write_file_path = '/home/greghovhannisyan/PycharmProjects/towards_rlnn_cnn/ObjectSegWithRL/data/vertex_count_segmentation_ids_gte10k.json'\n",
    "with open(write_file_path, 'w') as write_file:\n",
    "    json.dump(new_shape_json, write_file, sort_keys=True, indent=4)"
   ]
  },
  {
   "cell_type": "code",
   "execution_count": 8,
   "metadata": {},
   "outputs": [
    {
     "name": "stdout",
     "output_type": "stream",
     "text": [
      "['10', '100', '1010', '102', '104', '106', '108', '110', '112', '1138', '114', '116', '118', '12', '120', '122', '124', '126', '128', '130', '132', '134', '136', '138', '14', '140', '142', '144', '146', '148', '150', '152', '154', '156', '158', '16', '160', '162', '164', '166', '168', '170', '172', '174', '176', '178', '18', '180', '182', '184', '186', '188', '190', '192', '194', '196', '198', '20', '200', '202', '204', '206', '208', '210', '2116', '212', '214', '216', '2170', '218', '22', '220', '222', '224', '226', '228', '230', '232', '234', '236', '238', '24', '240', '242', '244', '246', '248', '250', '252', '254', '256', '258', '26', '260', '262', '264', '266', '268', '270', '272', '274', '276', '278', '28', '280', '282', '284', '286', '288', '290', '292', '294', '296', '298', '30', '300', '302', '304', '306', '308', '310', '312', '314', '316', '318', '32', '320', '322', '324', '326', '328', '330', '332', '334', '336', '338', '34', '340', '342', '344', '346', '348', '350', '352', '354', '356', '358', '36', '360', '362', '364', '366', '368', '370', '372', '374', '376', '378', '38', '380', '382', '384', '386', '388', '390', '392', '394', '396', '398', '40', '400', '402', '404', '406', '408', '410', '412', '414', '416', '418', '42', '420', '422', '424', '426', '428', '430', '432', '434', '436', '438', '44', '440', '442', '444', '446', '448', '450', '452', '454', '456', '458', '46', '460', '462', '464', '466', '468', '470', '472', '474', '476', '478', '48', '480', '482', '484', '486', '488', '490', '492', '494', '496', '498', '50', '500', '502', '504', '506', '508', '510', '512', '516', '518', '52', '520', '522', '524', '526', '530', '532', '536', '538', '54', '540', '542', '546', '548', '550', '552', '554', '558', '56', '560', '564', '566', '568', '572', '574', '58', '580', '582', '584', '586', '588', '590', '594', '596', '60', '600', '602', '606', '608', '612', '614', '62', '620', '624', '630', '634', '636', '64', '658', '66', '660', '666', '670', '672', '674', '68', '682', '684', '686', '70', '700', '702', '704', '706', '712', '72', '730', '732', '74', '740', '750', '76', '764', '774', '78', '8', '80', '800', '804', '82', '822', '834', '84', '840', '858', '86', '868', '88', '90', '92', '920', '94', '96', '98']\n",
      "12350\n"
     ]
    }
   ],
   "source": [
    "with open('/home/greghovhannisyan/PycharmProjects/towards_rlnn_cnn/ObjectSegWithRL/data/vertex_count_segmentation_ids_gte10k.json', 'r') as read_file:\n",
    "    a = json.load(read_file)\n",
    "    \n",
    "print(sorted(a.keys()))\n",
    "print(len(a['12']))"
   ]
  },
  {
   "cell_type": "code",
   "execution_count": 7,
   "metadata": {},
   "outputs": [
    {
     "name": "stdout",
     "output_type": "stream",
     "text": [
      "['10', '100', '1010', '102', '104', '106', '108', '110', '112', '1138', '114', '116', '118', '12', '120', '122', '124', '126', '128', '130', '132', '134', '136', '138', '14', '140', '142', '144', '146', '148', '150', '152', '154', '156', '158', '16', '160', '162', '164', '166', '168', '170', '172', '174', '176', '178', '18', '180', '182', '184', '186', '188', '190', '192', '194', '196', '198', '20', '200', '202', '204', '206', '208', '210', '2116', '212', '214', '216', '2170', '218', '22', '220', '222', '224', '226', '228', '230', '232', '234', '236', '238', '24', '240', '242', '244', '246', '248', '250', '252', '254', '256', '258', '26', '260', '262', '264', '266', '268', '270', '272', '274', '276', '278', '28', '280', '282', '284', '286', '288', '290', '292', '294', '296', '298', '30', '300', '302', '304', '306', '308', '310', '312', '314', '316', '318', '32', '320', '322', '324', '326', '328', '330', '332', '334', '336', '338', '34', '340', '342', '344', '346', '348', '350', '352', '354', '356', '358', '36', '360', '362', '364', '366', '368', '370', '372', '374', '376', '378', '38', '380', '382', '384', '386', '388', '390', '392', '394', '396', '398', '40', '400', '402', '404', '406', '408', '410', '412', '414', '416', '418', '42', '420', '422', '424', '426', '428', '430', '432', '434', '436', '438', '44', '440', '442', '444', '446', '448', '450', '452', '454', '456', '458', '46', '460', '462', '464', '466', '468', '470', '472', '474', '476', '478', '48', '480', '482', '484', '486', '488', '490', '492', '494', '496', '498', '50', '500', '502', '504', '506', '508', '510', '512', '516', '518', '52', '520', '522', '524', '526', '530', '532', '536', '538', '54', '540', '542', '546', '548', '550', '552', '554', '558', '56', '560', '564', '566', '568', '572', '574', '58', '580', '582', '584', '586', '588', '590', '594', '596', '60', '600', '602', '606', '608', '612', '614', '62', '620', '624', '630', '634', '636', '64', '658', '66', '660', '666', '670', '672', '674', '68', '682', '684', '686', '70', '700', '702', '704', '706', '712', '72', '730', '732', '74', '740', '750', '76', '764', '774', '78', '8', '80', '800', '804', '82', '822', '834', '84', '840', '858', '86', '868', '88', '90', '92', '920', '94', '96', '98']\n",
      "22696\n"
     ]
    }
   ],
   "source": [
    "with open('/home/greghovhannisyan/PycharmProjects/towards_rlnn_cnn/ObjectSegWithRL/data/vertex_count_segmentation_ids.json', 'r') as read_file:\n",
    "    a = json.load(read_file)\n",
    "    \n",
    "print(sorted(a.keys()))\n",
    "print(len(a['12']))"
   ]
  },
  {
   "cell_type": "code",
   "execution_count": null,
   "metadata": {},
   "outputs": [],
   "source": []
  },
  {
   "cell_type": "code",
   "execution_count": 1,
   "metadata": {},
   "outputs": [],
   "source": [
    "import json\n",
    "poly_path = '/media/greghovhannisyan/BackupData1/mscoco/annotations/by_vertex/30_vertex_poly_adjusted.json'\n",
    "with open(poly_path, 'r') as read_file:\n",
    "    poly = json.load(read_file)"
   ]
  },
  {
   "cell_type": "code",
   "execution_count": 2,
   "metadata": {},
   "outputs": [],
   "source": [
    "new_dict = dict()\n",
    "for key in poly.keys():\n",
    "    t_list = list()\n",
    "    for val in poly[key]:\n",
    "        t_list.append(round(val, 3))\n",
    "    new_dict[int(key)] = t_list"
   ]
  },
  {
   "cell_type": "code",
   "execution_count": 3,
   "metadata": {},
   "outputs": [],
   "source": [
    "with open(poly_path, 'w') as write_file:\n",
    "    json.dump(new_dict, write_file, indent=4)"
   ]
  },
  {
   "cell_type": "code",
   "execution_count": 5,
   "metadata": {},
   "outputs": [
    {
     "name": "stdout",
     "output_type": "stream",
     "text": [
      "[62.36, 1.69, 89.33, 11.8, 118.82, 33.71, 139.04, 51.4, 153.37, 60.67, 197.19, 75.0, 224.16, 91.01, 248.6, 87.64, 257.87, 85.11, 261.24, 88.48, 258.71, 99.44, 265.45, 115.45, 277.25, 118.82, 284.83, 117.98, 301.69, 123.03, 319.38, 126.4, 329, 133.15, 322.75, 143.26, 310.96, 154.21, 299.16, 160.96, 279.78, 163.48, 254.49, 166.85, 237.64, 166.85, 225.0, 166.85, 208.99, 165.17, 198.03, 164.33, 184.55, 167.7, 169.38, 171.91, 155.9, 182.02, 144.1, 182.87, 146.63, 198.03, 131.46, 198.88, 119.66, 198.88, 107.87, 196.35, 98.6, 198.88, 88.48, 203.09, 77.53, 205.62, 68.26, 208.15, 69.94, 225.0, 72.47, 238.48, 76.69, 244.38, 88.48, 234.27, 101.12, 225.84, 111.24, 220.79, 121.35, 221.63, 125.56, 227.53, 122.19, 238.48, 117.13, 245.22, 114.61, 255.34, 127.25, 251.12, 139.04, 252.81, 149.16, 250.28, 158.43, 246.91, 164.33, 242.7, 178.65, 242.7, 189.61, 257.02, 171.07, 279.78, 149.16, 292.42, 125.56, 305.06, 108.71, 314.33, 95.22, 323.6, 72.47, 333.71, 61.52, 352.25, 48.03, 362.36, 61.52, 372.47, 85.96, 353.93, 117.13, 344.66, 126.4, 332.87, 141.57, 322.75, 147.47, 309.27, 160.96, 299.16, 175.28, 302.53, 180.34, 310.96, 173.6, 327.81, 165.17, 347.19, 160.96, 365.73, 157.58, 375.0, 83.43, 375.0, 33.71, 375.0, 2.53, 374.16, 0.0, 298.31, 0.84, 278.93, 2.53, 246.91, 0.84, 150.0, 0.0, 75.84, 0.0, 36.24, 1.69, 0.0, 24.44, 1.69, 42.98, 1.69, 69.94, 0.84]\n"
     ]
    }
   ],
   "source": [
    "for val in new_dict.keys():\n",
    "    print(new_dict[val])\n",
    "    break"
   ]
  },
  {
   "cell_type": "code",
   "execution_count": 4,
   "metadata": {},
   "outputs": [],
   "source": [
    "with open('data.json', 'w') as outfile:\n",
    "    json.dump(new_dict, outfile, indent=4)"
   ]
  },
  {
   "cell_type": "code",
   "execution_count": 13,
   "metadata": {},
   "outputs": [
    {
     "name": "stdout",
     "output_type": "stream",
     "text": [
      "767315\n",
      "767315\n"
     ]
    }
   ],
   "source": [
    "print(len(new_dict.keys()))\n",
    "print(len(poly.keys()))"
   ]
  },
  {
   "cell_type": "code",
   "execution_count": 1,
   "metadata": {},
   "outputs": [],
   "source": [
    "vertex_path = '/home/greghovhannisyan/PycharmProjects/towards_rlnn_cnn/ObjectSegWithRL/data/vertex_count_segmentation_ids.json'\n",
    "import json\n",
    "with open(vertex_path, 'r') as read_file:\n",
    "    vertex_json = json.load(read_file)\n",
    "vertex_len_dict = dict()\n",
    "for key in vertex_json:\n",
    "    vertex_len_dict[key] = len(vertex_json[key])"
   ]
  },
  {
   "cell_type": "code",
   "execution_count": 3,
   "metadata": {},
   "outputs": [
    {
     "data": {
      "text/plain": [
       "['22',\n",
       " '20',\n",
       " '24',\n",
       " '18',\n",
       " '26',\n",
       " '28',\n",
       " '16',\n",
       " '30',\n",
       " '32',\n",
       " '14',\n",
       " '34',\n",
       " '36',\n",
       " '12',\n",
       " '38',\n",
       " '40',\n",
       " '10',\n",
       " '42',\n",
       " '44',\n",
       " '8',\n",
       " '46',\n",
       " '48',\n",
       " '50',\n",
       " '52',\n",
       " '54',\n",
       " '56',\n",
       " '58',\n",
       " '60',\n",
       " '62',\n",
       " '64',\n",
       " '66',\n",
       " '68',\n",
       " '70',\n",
       " '72',\n",
       " '74',\n",
       " '76',\n",
       " '78',\n",
       " '80',\n",
       " '82',\n",
       " '84',\n",
       " '86',\n",
       " '88',\n",
       " '90',\n",
       " '92',\n",
       " '94',\n",
       " '96',\n",
       " '98',\n",
       " '100',\n",
       " '102',\n",
       " '104',\n",
       " '106',\n",
       " '108',\n",
       " '110',\n",
       " '112',\n",
       " '114',\n",
       " '116',\n",
       " '118',\n",
       " '120',\n",
       " '122',\n",
       " '124',\n",
       " '126',\n",
       " '128',\n",
       " '130',\n",
       " '132',\n",
       " '134',\n",
       " '136',\n",
       " '138',\n",
       " '140',\n",
       " '142',\n",
       " '146',\n",
       " '144',\n",
       " '148',\n",
       " '150',\n",
       " '152',\n",
       " '154',\n",
       " '156',\n",
       " '160',\n",
       " '158',\n",
       " '164',\n",
       " '162',\n",
       " '168',\n",
       " '166',\n",
       " '170',\n",
       " '172',\n",
       " '174',\n",
       " '176',\n",
       " '178',\n",
       " '180',\n",
       " '182',\n",
       " '186',\n",
       " '184',\n",
       " '188',\n",
       " '190',\n",
       " '194',\n",
       " '192',\n",
       " '198',\n",
       " '196',\n",
       " '200',\n",
       " '202',\n",
       " '204',\n",
       " '210',\n",
       " '208',\n",
       " '206',\n",
       " '214',\n",
       " '212',\n",
       " '218',\n",
       " '224',\n",
       " '216',\n",
       " '230',\n",
       " '220',\n",
       " '222',\n",
       " '226',\n",
       " '232',\n",
       " '238',\n",
       " '234',\n",
       " '228',\n",
       " '240',\n",
       " '236',\n",
       " '242',\n",
       " '248',\n",
       " '246',\n",
       " '244',\n",
       " '250',\n",
       " '252',\n",
       " '260',\n",
       " '254',\n",
       " '256',\n",
       " '258',\n",
       " '282',\n",
       " '266',\n",
       " '264',\n",
       " '274',\n",
       " '268',\n",
       " '262',\n",
       " '286',\n",
       " '276',\n",
       " '270',\n",
       " '278',\n",
       " '272',\n",
       " '284',\n",
       " '294',\n",
       " '288',\n",
       " '290',\n",
       " '298',\n",
       " '296',\n",
       " '280',\n",
       " '306',\n",
       " '300',\n",
       " '312',\n",
       " '308',\n",
       " '310',\n",
       " '304',\n",
       " '320',\n",
       " '318',\n",
       " '332',\n",
       " '292',\n",
       " '302',\n",
       " '314',\n",
       " '336',\n",
       " '322',\n",
       " '338',\n",
       " '324',\n",
       " '330',\n",
       " '340',\n",
       " '328',\n",
       " '334',\n",
       " '348',\n",
       " '354',\n",
       " '316',\n",
       " '346',\n",
       " '362',\n",
       " '344',\n",
       " '360',\n",
       " '366',\n",
       " '350',\n",
       " '376',\n",
       " '326',\n",
       " '342',\n",
       " '388',\n",
       " '358',\n",
       " '352',\n",
       " '364',\n",
       " '378',\n",
       " '356',\n",
       " '396',\n",
       " '372',\n",
       " '374',\n",
       " '382',\n",
       " '386',\n",
       " '380',\n",
       " '394',\n",
       " '368',\n",
       " '410',\n",
       " '370',\n",
       " '400',\n",
       " '392',\n",
       " '414',\n",
       " '470',\n",
       " '384',\n",
       " '440',\n",
       " '424',\n",
       " '412',\n",
       " '408',\n",
       " '436',\n",
       " '418',\n",
       " '446',\n",
       " '428',\n",
       " '464',\n",
       " '406',\n",
       " '420',\n",
       " '474',\n",
       " '416',\n",
       " '460',\n",
       " '466',\n",
       " '422',\n",
       " '448',\n",
       " '438',\n",
       " '398',\n",
       " '402',\n",
       " '456',\n",
       " '500',\n",
       " '430',\n",
       " '494',\n",
       " '444',\n",
       " '404',\n",
       " '426',\n",
       " '516',\n",
       " '390',\n",
       " '432',\n",
       " '600',\n",
       " '484',\n",
       " '452',\n",
       " '510',\n",
       " '566',\n",
       " '450',\n",
       " '488',\n",
       " '502',\n",
       " '458',\n",
       " '536',\n",
       " '518',\n",
       " '442',\n",
       " '492',\n",
       " '468',\n",
       " '506',\n",
       " '590',\n",
       " '434',\n",
       " '574',\n",
       " '472',\n",
       " '504',\n",
       " '542',\n",
       " '624',\n",
       " '532',\n",
       " '480',\n",
       " '462',\n",
       " '530',\n",
       " '550',\n",
       " '520',\n",
       " '454',\n",
       " '548',\n",
       " '580',\n",
       " '482',\n",
       " '658',\n",
       " '594',\n",
       " '498',\n",
       " '670',\n",
       " '804',\n",
       " '538',\n",
       " '486',\n",
       " '560',\n",
       " '526',\n",
       " '636',\n",
       " '730',\n",
       " '660',\n",
       " '490',\n",
       " '764',\n",
       " '634',\n",
       " '732',\n",
       " '522',\n",
       " '706',\n",
       " '2116',\n",
       " '712',\n",
       " '612',\n",
       " '834',\n",
       " '588',\n",
       " '750',\n",
       " '582',\n",
       " '1010',\n",
       " '822',\n",
       " '596',\n",
       " '740',\n",
       " '512',\n",
       " '586',\n",
       " '478',\n",
       " '476',\n",
       " '606',\n",
       " '554',\n",
       " '558',\n",
       " '620',\n",
       " '682',\n",
       " '572',\n",
       " '868',\n",
       " '674',\n",
       " '840',\n",
       " '608',\n",
       " '672',\n",
       " '686',\n",
       " '684',\n",
       " '568',\n",
       " '630',\n",
       " '666',\n",
       " '1138',\n",
       " '614',\n",
       " '584',\n",
       " '552',\n",
       " '700',\n",
       " '800',\n",
       " '858',\n",
       " '702',\n",
       " '774',\n",
       " '564',\n",
       " '508',\n",
       " '920',\n",
       " '540',\n",
       " '546',\n",
       " '496',\n",
       " '602',\n",
       " '524',\n",
       " '704',\n",
       " '2170']"
      ]
     },
     "execution_count": 3,
     "metadata": {},
     "output_type": "execute_result"
    }
   ],
   "source": [
    "vertex_sorted = sorted(vertex_len_dict, key=vertex_len_dict.get, reverse=True)"
   ]
  },
  {
   "cell_type": "code",
   "execution_count": 8,
   "metadata": {},
   "outputs": [],
   "source": [
    "with open('bbox_poly_resize_gte_10k.txt', 'r') as read_file:\n",
    "    filter_set_temp = read_file.read().splitlines()\n",
    "    \n",
    "filter_list = list()\n",
    "for val in filter_set_temp:\n",
    "    filter_list.append(int(val))"
   ]
  },
  {
   "cell_type": "code",
   "execution_count": 31,
   "metadata": {},
   "outputs": [],
   "source": [
    "filter_set = set(filter_list)\n",
    "good_set = set()\n",
    "for val in vertex_json['30']:\n",
    "    if val in filter_set:\n",
    "        good_set.add(val)"
   ]
  },
  {
   "cell_type": "code",
   "execution_count": 32,
   "metadata": {},
   "outputs": [
    {
     "data": {
      "text/plain": [
       "5960"
      ]
     },
     "execution_count": 32,
     "metadata": {},
     "output_type": "execute_result"
    }
   ],
   "source": [
    "len(good_set)"
   ]
  },
  {
   "cell_type": "code",
   "execution_count": null,
   "metadata": {},
   "outputs": [],
   "source": []
  }
 ],
 "metadata": {
  "kernelspec": {
   "display_name": "Python 3",
   "language": "python",
   "name": "python3"
  },
  "language_info": {
   "codemirror_mode": {
    "name": "ipython",
    "version": 3
   },
   "file_extension": ".py",
   "mimetype": "text/x-python",
   "name": "python",
   "nbconvert_exporter": "python",
   "pygments_lexer": "ipython3",
   "version": "3.5.2"
  }
 },
 "nbformat": 4,
 "nbformat_minor": 2
}
