{
 "cells": [
  {
   "cell_type": "code",
   "execution_count": 2,
   "metadata": {},
   "outputs": [],
   "source": [
    "import numpy as np\n",
    "import skimage.io as io\n",
    "from skimage.transform import resize\n",
    "import matplotlib.pyplot as plt\n",
    "import os\n",
    "import json\n",
    "%matplotlib inline"
   ]
  },
  {
   "cell_type": "code",
   "execution_count": 2,
   "metadata": {},
   "outputs": [],
   "source": [
    "bbox_crop_dir = '/media/greghovhannisyan/BackupData1/mscoco/images/train2017_crop_bbox/'"
   ]
  },
  {
   "cell_type": "code",
   "execution_count": 8,
   "metadata": {},
   "outputs": [
    {
     "name": "stdout",
     "output_type": "stream",
     "text": [
      "(12, 8)\n"
     ]
    },
    {
     "ename": "ValueError",
     "evalue": "not enough values to unpack (expected 3, got 2)",
     "output_type": "error",
     "traceback": [
      "\u001b[0;31m---------------------------------------------------------------------------\u001b[0m",
      "\u001b[0;31mValueError\u001b[0m                                Traceback (most recent call last)",
      "\u001b[0;32m<ipython-input-8-cbc5453bdef1>\u001b[0m in \u001b[0;36m<module>\u001b[0;34m()\u001b[0m\n\u001b[1;32m      2\u001b[0m \u001b[0mI\u001b[0m \u001b[0;34m=\u001b[0m \u001b[0mio\u001b[0m\u001b[0;34m.\u001b[0m\u001b[0mimread\u001b[0m\u001b[0;34m(\u001b[0m\u001b[0mbbox_crop_dir\u001b[0m \u001b[0;34m+\u001b[0m \u001b[0mstr\u001b[0m\u001b[0;34m(\u001b[0m\u001b[0msample_ann_id\u001b[0m\u001b[0;34m)\u001b[0m \u001b[0;34m+\u001b[0m \u001b[0;34m'.jpg'\u001b[0m\u001b[0;34m)\u001b[0m\u001b[0;34m\u001b[0m\u001b[0m\n\u001b[1;32m      3\u001b[0m \u001b[0mprint\u001b[0m\u001b[0;34m(\u001b[0m\u001b[0mI\u001b[0m\u001b[0;34m.\u001b[0m\u001b[0mshape\u001b[0m\u001b[0;34m)\u001b[0m\u001b[0;34m\u001b[0m\u001b[0m\n\u001b[0;32m----> 4\u001b[0;31m \u001b[0mheight\u001b[0m\u001b[0;34m,\u001b[0m \u001b[0mwidth\u001b[0m\u001b[0;34m,\u001b[0m \u001b[0m_\u001b[0m \u001b[0;34m=\u001b[0m \u001b[0mI\u001b[0m\u001b[0;34m.\u001b[0m\u001b[0mshape\u001b[0m\u001b[0;34m\u001b[0m\u001b[0m\n\u001b[0m\u001b[1;32m      5\u001b[0m \u001b[0mprint\u001b[0m\u001b[0;34m(\u001b[0m\u001b[0mtype\u001b[0m\u001b[0;34m(\u001b[0m\u001b[0;34m(\u001b[0m\u001b[0mheight\u001b[0m\u001b[0;34m,\u001b[0m \u001b[0mwidth\u001b[0m\u001b[0;34m)\u001b[0m\u001b[0;34m)\u001b[0m\u001b[0;34m)\u001b[0m\u001b[0;34m\u001b[0m\u001b[0m\n\u001b[1;32m      6\u001b[0m \u001b[0mplt\u001b[0m\u001b[0;34m.\u001b[0m\u001b[0mfigure\u001b[0m\u001b[0;34m(\u001b[0m\u001b[0;34m)\u001b[0m\u001b[0;34m;\u001b[0m \u001b[0mplt\u001b[0m\u001b[0;34m.\u001b[0m\u001b[0maxis\u001b[0m\u001b[0;34m(\u001b[0m\u001b[0;34m'off'\u001b[0m\u001b[0;34m)\u001b[0m\u001b[0;34m\u001b[0m\u001b[0m\n",
      "\u001b[0;31mValueError\u001b[0m: not enough values to unpack (expected 3, got 2)"
     ]
    }
   ],
   "source": [
    "sample_ann_id = 1874298\n",
    "I = io.imread(bbox_crop_dir + str(sample_ann_id) + '.jpg')\n",
    "print(I.shape)\n",
    "height, width, _ = I.shape\n",
    "print(type((height, width)))\n",
    "plt.figure(); plt.axis('off')\n",
    "plt.imshow(I)"
   ]
  },
  {
   "cell_type": "code",
   "execution_count": 19,
   "metadata": {},
   "outputs": [
    {
     "ename": "NameError",
     "evalue": "name 'rescale' is not defined",
     "output_type": "error",
     "traceback": [
      "\u001b[0;31m---------------------------------------------------------------------------\u001b[0m",
      "\u001b[0;31mNameError\u001b[0m                                 Traceback (most recent call last)",
      "\u001b[0;32m<ipython-input-19-6013207943d1>\u001b[0m in \u001b[0;36m<module>\u001b[0;34m()\u001b[0m\n\u001b[1;32m      1\u001b[0m \u001b[0msample_ann_id\u001b[0m \u001b[0;34m=\u001b[0m \u001b[0;36m1874298\u001b[0m\u001b[0;34m\u001b[0m\u001b[0m\n\u001b[1;32m      2\u001b[0m \u001b[0mI\u001b[0m \u001b[0;34m=\u001b[0m \u001b[0mio\u001b[0m\u001b[0;34m.\u001b[0m\u001b[0mimread\u001b[0m\u001b[0;34m(\u001b[0m\u001b[0mbbox_crop_dir\u001b[0m \u001b[0;34m+\u001b[0m \u001b[0mstr\u001b[0m\u001b[0;34m(\u001b[0m\u001b[0msample_ann_id\u001b[0m\u001b[0;34m)\u001b[0m \u001b[0;34m+\u001b[0m \u001b[0;34m'.jpg'\u001b[0m\u001b[0;34m)\u001b[0m\u001b[0;34m\u001b[0m\u001b[0m\n\u001b[0;32m----> 3\u001b[0;31m \u001b[0mre_I\u001b[0m \u001b[0;34m=\u001b[0m \u001b[0mrescale\u001b[0m\u001b[0;34m(\u001b[0m\u001b[0mI\u001b[0m\u001b[0;34m,\u001b[0m\u001b[0;34m(\u001b[0m\u001b[0;36m100\u001b[0m\u001b[0;34m,\u001b[0m\u001b[0;36m100\u001b[0m\u001b[0;34m)\u001b[0m\u001b[0;34m)\u001b[0m\u001b[0;34m\u001b[0m\u001b[0m\n\u001b[0m\u001b[1;32m      4\u001b[0m \u001b[0mprint\u001b[0m\u001b[0;34m(\u001b[0m\u001b[0mre_I\u001b[0m\u001b[0;34m.\u001b[0m\u001b[0mshape\u001b[0m\u001b[0;34m)\u001b[0m\u001b[0;34m\u001b[0m\u001b[0m\n\u001b[1;32m      5\u001b[0m \u001b[0mplt\u001b[0m\u001b[0;34m.\u001b[0m\u001b[0mfigure\u001b[0m\u001b[0;34m(\u001b[0m\u001b[0;34m)\u001b[0m\u001b[0;34m;\u001b[0m \u001b[0mplt\u001b[0m\u001b[0;34m.\u001b[0m\u001b[0maxis\u001b[0m\u001b[0;34m(\u001b[0m\u001b[0;34m'off'\u001b[0m\u001b[0;34m)\u001b[0m\u001b[0;34m\u001b[0m\u001b[0m\n",
      "\u001b[0;31mNameError\u001b[0m: name 'rescale' is not defined"
     ]
    }
   ],
   "source": [
    "sample_ann_id = 1874298\n",
    "I = io.imread(bbox_crop_dir + str(sample_ann_id) + '.jpg')\n",
    "re_I = resize==(I,(100,100))\n",
    "print(re_I.shape)\n",
    "plt.figure(); plt.axis('off')\n",
    "plt.imshow(re_I)"
   ]
  },
  {
   "cell_type": "code",
   "execution_count": 3,
   "metadata": {},
   "outputs": [],
   "source": [
    "import sys\n",
    "sys.path.insert(0, os.path.abspath('..'))\n",
    "# from /home/greghovhannisyan/PycharmProjects/towards_rlnn_cnn/ObjectSegWithRL/src/resize_functions.py import *"
   ]
  },
  {
   "cell_type": "code",
   "execution_count": 4,
   "metadata": {},
   "outputs": [
    {
     "data": {
      "text/plain": [
       "['/home/greghovhannisyan/PycharmProjects/towards_rlnn_cnn/ObjectSegWithRL/src',\n",
       " '',\n",
       " '/usr/lib/python35.zip',\n",
       " '/usr/lib/python3.5',\n",
       " '/usr/lib/python3.5/plat-x86_64-linux-gnu',\n",
       " '/usr/lib/python3.5/lib-dynload',\n",
       " '/usr/local/lib/python3.5/dist-packages',\n",
       " '/usr/local/lib/python3.5/dist-packages/pycocotools-2.0-py3.5-linux-x86_64.egg',\n",
       " '/usr/local/lib/python3.5/dist-packages/matplotlib-2.2.2-py3.5-linux-x86_64.egg',\n",
       " '/usr/local/lib/python3.5/dist-packages/kiwisolver-1.0.1-py3.5-linux-x86_64.egg',\n",
       " '/usr/lib/python3/dist-packages',\n",
       " '/usr/local/lib/python3.5/dist-packages/IPython/extensions',\n",
       " '/home/greghovhannisyan/.ipython']"
      ]
     },
     "execution_count": 4,
     "metadata": {},
     "output_type": "execute_result"
    }
   ],
   "source": [
    "sys.path"
   ]
  },
  {
   "cell_type": "code",
   "execution_count": 5,
   "metadata": {},
   "outputs": [],
   "source": [
    "from resize_functions import *"
   ]
  },
  {
   "cell_type": "code",
   "execution_count": 6,
   "metadata": {},
   "outputs": [],
   "source": [
    "vertex_json_path = '/home/greghovhannisyan/PycharmProjects/towards_rlnn_cnn/ObjectSegWithRL/data/vertex_count_segmentation_ids.json'\n",
    "bbox_json_path = '/home/greghovhannisyan/PycharmProjects/towards_rlnn_cnn/ObjectSegWithRL/data/bbox_crop_shape_gte10k.json'"
   ]
  },
  {
   "cell_type": "code",
   "execution_count": 7,
   "metadata": {},
   "outputs": [],
   "source": [
    "new_shape_json = cross_check_json(vertex_json_path, bbox_json_path)"
   ]
  },
  {
   "cell_type": "code",
   "execution_count": 74,
   "metadata": {},
   "outputs": [],
   "source": [
    "# Load the jsons\n",
    "with open(vertex_json_path, 'r') as read_shape:\n",
    "    vertex_json = json.load(read_shape)\n",
    "\n",
    "with open(bbox_json_path, 'r') as read_vertex:\n",
    "    shape_json = json.load(read_vertex)\n",
    "\n",
    "combined_shape_list = list()\n",
    "# combine the shape_json\n",
    "for key in shape_json:\n",
    "    combined_shape_list.extend(shape_json[key])"
   ]
  },
  {
   "cell_type": "code",
   "execution_count": 75,
   "metadata": {},
   "outputs": [
    {
     "data": {
      "text/plain": [
       "280669"
      ]
     },
     "execution_count": 75,
     "metadata": {},
     "output_type": "execute_result"
    }
   ],
   "source": [
    "len(combined_shape_list)"
   ]
  },
  {
   "cell_type": "code",
   "execution_count": 76,
   "metadata": {},
   "outputs": [
    {
     "data": {
      "text/plain": [
       "False"
      ]
     },
     "execution_count": 76,
     "metadata": {},
     "output_type": "execute_result"
    }
   ],
   "source": [
    "1610395 in combined_shape_list"
   ]
  },
  {
   "cell_type": "code",
   "execution_count": null,
   "metadata": {},
   "outputs": [],
   "source": [
    "for key in vertex_json:\n",
    "    for val in vertex_json[key]:\n",
    "        if val not in combined_shape_list:\n",
    "            vertex_json[key].remove(val)"
   ]
  },
  {
   "cell_type": "code",
   "execution_count": 8,
   "metadata": {},
   "outputs": [],
   "source": [
    "write_file_path = '/home/greghovhannisyan/PycharmProjects/towards_rlnn_cnn/ObjectSegWithRL/data/vertex_count_segmentation_ids_gte10k.json'\n",
    "with open(write_file_path, 'w') as write_file:\n",
    "    json.dump(new_shape_json, write_file, sort_keys=True, indent=4)"
   ]
  },
  {
   "cell_type": "code",
   "execution_count": 8,
   "metadata": {},
   "outputs": [
    {
     "name": "stdout",
     "output_type": "stream",
     "text": [
      "['10', '100', '1010', '102', '104', '106', '108', '110', '112', '1138', '114', '116', '118', '12', '120', '122', '124', '126', '128', '130', '132', '134', '136', '138', '14', '140', '142', '144', '146', '148', '150', '152', '154', '156', '158', '16', '160', '162', '164', '166', '168', '170', '172', '174', '176', '178', '18', '180', '182', '184', '186', '188', '190', '192', '194', '196', '198', '20', '200', '202', '204', '206', '208', '210', '2116', '212', '214', '216', '2170', '218', '22', '220', '222', '224', '226', '228', '230', '232', '234', '236', '238', '24', '240', '242', '244', '246', '248', '250', '252', '254', '256', '258', '26', '260', '262', '264', '266', '268', '270', '272', '274', '276', '278', '28', '280', '282', '284', '286', '288', '290', '292', '294', '296', '298', '30', '300', '302', '304', '306', '308', '310', '312', '314', '316', '318', '32', '320', '322', '324', '326', '328', '330', '332', '334', '336', '338', '34', '340', '342', '344', '346', '348', '350', '352', '354', '356', '358', '36', '360', '362', '364', '366', '368', '370', '372', '374', '376', '378', '38', '380', '382', '384', '386', '388', '390', '392', '394', '396', '398', '40', '400', '402', '404', '406', '408', '410', '412', '414', '416', '418', '42', '420', '422', '424', '426', '428', '430', '432', '434', '436', '438', '44', '440', '442', '444', '446', '448', '450', '452', '454', '456', '458', '46', '460', '462', '464', '466', '468', '470', '472', '474', '476', '478', '48', '480', '482', '484', '486', '488', '490', '492', '494', '496', '498', '50', '500', '502', '504', '506', '508', '510', '512', '516', '518', '52', '520', '522', '524', '526', '530', '532', '536', '538', '54', '540', '542', '546', '548', '550', '552', '554', '558', '56', '560', '564', '566', '568', '572', '574', '58', '580', '582', '584', '586', '588', '590', '594', '596', '60', '600', '602', '606', '608', '612', '614', '62', '620', '624', '630', '634', '636', '64', '658', '66', '660', '666', '670', '672', '674', '68', '682', '684', '686', '70', '700', '702', '704', '706', '712', '72', '730', '732', '74', '740', '750', '76', '764', '774', '78', '8', '80', '800', '804', '82', '822', '834', '84', '840', '858', '86', '868', '88', '90', '92', '920', '94', '96', '98']\n",
      "12350\n"
     ]
    }
   ],
   "source": [
    "with open('/home/greghovhannisyan/PycharmProjects/towards_rlnn_cnn/ObjectSegWithRL/data/vertex_count_segmentation_ids_gte10k.json', 'r') as read_file:\n",
    "    a = json.load(read_file)\n",
    "    \n",
    "print(sorted(a.keys()))\n",
    "print(len(a['12']))"
   ]
  },
  {
   "cell_type": "code",
   "execution_count": 7,
   "metadata": {},
   "outputs": [
    {
     "name": "stdout",
     "output_type": "stream",
     "text": [
      "['10', '100', '1010', '102', '104', '106', '108', '110', '112', '1138', '114', '116', '118', '12', '120', '122', '124', '126', '128', '130', '132', '134', '136', '138', '14', '140', '142', '144', '146', '148', '150', '152', '154', '156', '158', '16', '160', '162', '164', '166', '168', '170', '172', '174', '176', '178', '18', '180', '182', '184', '186', '188', '190', '192', '194', '196', '198', '20', '200', '202', '204', '206', '208', '210', '2116', '212', '214', '216', '2170', '218', '22', '220', '222', '224', '226', '228', '230', '232', '234', '236', '238', '24', '240', '242', '244', '246', '248', '250', '252', '254', '256', '258', '26', '260', '262', '264', '266', '268', '270', '272', '274', '276', '278', '28', '280', '282', '284', '286', '288', '290', '292', '294', '296', '298', '30', '300', '302', '304', '306', '308', '310', '312', '314', '316', '318', '32', '320', '322', '324', '326', '328', '330', '332', '334', '336', '338', '34', '340', '342', '344', '346', '348', '350', '352', '354', '356', '358', '36', '360', '362', '364', '366', '368', '370', '372', '374', '376', '378', '38', '380', '382', '384', '386', '388', '390', '392', '394', '396', '398', '40', '400', '402', '404', '406', '408', '410', '412', '414', '416', '418', '42', '420', '422', '424', '426', '428', '430', '432', '434', '436', '438', '44', '440', '442', '444', '446', '448', '450', '452', '454', '456', '458', '46', '460', '462', '464', '466', '468', '470', '472', '474', '476', '478', '48', '480', '482', '484', '486', '488', '490', '492', '494', '496', '498', '50', '500', '502', '504', '506', '508', '510', '512', '516', '518', '52', '520', '522', '524', '526', '530', '532', '536', '538', '54', '540', '542', '546', '548', '550', '552', '554', '558', '56', '560', '564', '566', '568', '572', '574', '58', '580', '582', '584', '586', '588', '590', '594', '596', '60', '600', '602', '606', '608', '612', '614', '62', '620', '624', '630', '634', '636', '64', '658', '66', '660', '666', '670', '672', '674', '68', '682', '684', '686', '70', '700', '702', '704', '706', '712', '72', '730', '732', '74', '740', '750', '76', '764', '774', '78', '8', '80', '800', '804', '82', '822', '834', '84', '840', '858', '86', '868', '88', '90', '92', '920', '94', '96', '98']\n",
      "22696\n"
     ]
    }
   ],
   "source": [
    "with open('/home/greghovhannisyan/PycharmProjects/towards_rlnn_cnn/ObjectSegWithRL/data/vertex_count_segmentation_ids.json', 'r') as read_file:\n",
    "    a = json.load(read_file)\n",
    "    \n",
    "print(sorted(a.keys()))\n",
    "print(len(a['12']))"
   ]
  },
  {
   "cell_type": "code",
   "execution_count": null,
   "metadata": {},
   "outputs": [],
   "source": []
  }
 ],
 "metadata": {
  "kernelspec": {
   "display_name": "Python 3",
   "language": "python",
   "name": "python3"
  },
  "language_info": {
   "codemirror_mode": {
    "name": "ipython",
    "version": 3
   },
   "file_extension": ".py",
   "mimetype": "text/x-python",
   "name": "python",
   "nbconvert_exporter": "python",
   "pygments_lexer": "ipython3",
   "version": "3.5.2"
  }
 },
 "nbformat": 4,
 "nbformat_minor": 2
}
