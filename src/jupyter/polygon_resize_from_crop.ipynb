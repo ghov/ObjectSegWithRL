{
 "cells": [
  {
   "cell_type": "code",
   "execution_count": 4,
   "metadata": {},
   "outputs": [],
   "source": [
    "# If we generate a new image by cropping it from an older image, then we also need to change the polygon\n",
    "# in order to make it fit the new cropped image."
   ]
  },
  {
   "cell_type": "code",
   "execution_count": 1,
   "metadata": {},
   "outputs": [],
   "source": [
    "#from os import listdir\n",
    "from torchvision.transforms import Resize\n",
    "from PIL import Image\n",
    "import skimage.io as io\n",
    "%matplotlib inline\n",
    "from pycocotools.coco import COCO\n",
    "from os import listdir\n",
    "import matplotlib.pyplot as plt\n",
    "import numpy as np\n",
    "from skimage.transform import resize\n",
    "from skimage.transform import rescale"
   ]
  },
  {
   "cell_type": "code",
   "execution_count": 2,
   "metadata": {},
   "outputs": [],
   "source": [
    "read_directory = '/media/greghovhannisyan/BackupData1/mscoco/images/train2017/'\n",
    "#write_directory = '/media/greghovhannisyan/BackupData1/mscoco/images/resized_images/train_2017_224_224/'\n",
    "annFile = '/media/greghovhannisyan/BackupData1/mscoco/annotations/instances/instances_train2017.json'\n",
    "bbox_crop_dir = '/media/greghovhannisyan/BackupData1/mscoco/images/train2017_crop_bbox/'"
   ]
  },
  {
   "cell_type": "code",
   "execution_count": 3,
   "metadata": {},
   "outputs": [
    {
     "name": "stdout",
     "output_type": "stream",
     "text": [
      "loading annotations into memory...\n",
      "Done (t=14.34s)\n",
      "creating index...\n",
      "index created!\n"
     ]
    }
   ],
   "source": [
    "# initialize COCO api for instance annotations\n",
    "coco=COCO(annFile)"
   ]
  },
  {
   "cell_type": "code",
   "execution_count": 26,
   "metadata": {},
   "outputs": [
    {
     "name": "stdout",
     "output_type": "stream",
     "text": [
      "{'counts': [70312, 12, 412, 16, 403, 25, 402, 26, 401, 26, 401, 26, 401, 26, 401, 26, 400, 27, 400, 27, 400, 26, 401, 25, 402, 23, 404, 24, 403, 25, 402, 26, 401, 27, 399, 29, 398, 29, 398, 29, 398, 29, 398, 29, 398, 29, 403, 24, 406, 21, 412, 14, 418, 8, 421, 4, 40551, 7, 419, 9, 413, 15, 404, 1, 5, 18, 400, 4, 5, 18, 399, 5, 4, 19, 398, 7, 3, 19, 397, 10, 1, 19, 397, 10, 1, 25, 389, 39, 388, 40, 386, 42, 385, 42, 385, 42, 384, 43, 383, 44, 383, 44, 383, 44, 383, 43, 384, 42, 385, 41, 386, 40, 388, 37, 391, 22, 4, 7, 394, 20, 407, 13, 414, 14, 413, 14, 413, 14, 413, 14, 413, 14, 413, 14, 413, 14, 413, 14, 379, 11, 23, 14, 378, 19, 16, 14, 377, 21, 17, 11, 377, 23, 17, 10, 377, 24, 17, 8, 378, 25, 17, 6, 379, 26, 17, 3, 381, 26, 401, 26, 401, 26, 402, 25, 402, 25, 403, 24, 403, 24, 403, 24, 403, 24, 403, 24, 403, 24, 403, 24, 403, 24, 403, 24, 403, 24, 403, 24, 403, 12, 1, 10, 405, 10, 3, 8, 407, 8, 6, 4, 411, 4, 11544, 13, 426, 2, 396, 8, 6, 18, 394, 34, 392, 35, 391, 36, 391, 36, 391, 36, 391, 36, 391, 36, 391, 35, 392, 34, 394, 31, 397, 23, 406, 20, 411, 14, 44462, 1, 429, 2, 416, 5, 419, 11, 414, 15, 409, 21, 405, 24, 403, 26, 401, 26, 401, 29, 399, 34, 396, 33, 397, 31, 400, 28, 402, 25, 404, 23, 407, 20, 408, 19, 409, 18, 411, 16, 412, 15, 413, 13, 415, 11, 421, 4, 42718, 33, 390, 41, 383, 45, 381, 48, 378, 51, 375, 53, 374, 54, 373, 59, 368, 64, 363, 65, 362, 66, 361, 68, 359, 80, 347, 81, 347, 81, 347, 81, 346, 81, 347, 80, 346, 81, 346, 81, 346, 81, 346, 81, 346, 80, 347, 80, 347, 59, 2, 18, 15], 'size': [427, 640]}\n",
      "[164, 222, 475, 191]\n"
     ]
    },
    {
     "ename": "KeyError",
     "evalue": "0",
     "output_type": "error",
     "traceback": [
      "\u001b[0;31m---------------------------------------------------------------------------\u001b[0m",
      "\u001b[0;31mKeyError\u001b[0m                                  Traceback (most recent call last)",
      "\u001b[0;32m<ipython-input-26-3a0218716976>\u001b[0m in \u001b[0;36m<module>\u001b[0;34m()\u001b[0m\n\u001b[1;32m      5\u001b[0m \u001b[0mprint\u001b[0m\u001b[0;34m(\u001b[0m\u001b[0msample_ann\u001b[0m\u001b[0;34m[\u001b[0m\u001b[0;36m0\u001b[0m\u001b[0;34m]\u001b[0m\u001b[0;34m[\u001b[0m\u001b[0;34m'segmentation'\u001b[0m\u001b[0;34m]\u001b[0m\u001b[0;34m)\u001b[0m\u001b[0;34m\u001b[0m\u001b[0m\n\u001b[1;32m      6\u001b[0m \u001b[0mprint\u001b[0m\u001b[0;34m(\u001b[0m\u001b[0msample_ann\u001b[0m\u001b[0;34m[\u001b[0m\u001b[0;36m0\u001b[0m\u001b[0;34m]\u001b[0m\u001b[0;34m[\u001b[0m\u001b[0;34m'bbox'\u001b[0m\u001b[0;34m]\u001b[0m\u001b[0;34m)\u001b[0m\u001b[0;34m\u001b[0m\u001b[0m\n\u001b[0;32m----> 7\u001b[0;31m \u001b[0mprint\u001b[0m\u001b[0;34m(\u001b[0m\u001b[0msample_ann\u001b[0m\u001b[0;34m[\u001b[0m\u001b[0;36m0\u001b[0m\u001b[0;34m]\u001b[0m\u001b[0;34m[\u001b[0m\u001b[0;34m'segmentation'\u001b[0m\u001b[0;34m]\u001b[0m\u001b[0;34m[\u001b[0m\u001b[0;36m0\u001b[0m\u001b[0;34m]\u001b[0m\u001b[0;34m)\u001b[0m\u001b[0;34m\u001b[0m\u001b[0m\n\u001b[0m\u001b[1;32m      8\u001b[0m \u001b[0;34m\u001b[0m\u001b[0m\n\u001b[1;32m      9\u001b[0m \u001b[0mxmin\u001b[0m \u001b[0;34m=\u001b[0m \u001b[0msample_ann\u001b[0m\u001b[0;34m[\u001b[0m\u001b[0;36m0\u001b[0m\u001b[0;34m]\u001b[0m\u001b[0;34m[\u001b[0m\u001b[0;34m'bbox'\u001b[0m\u001b[0;34m]\u001b[0m\u001b[0;34m[\u001b[0m\u001b[0;36m0\u001b[0m\u001b[0;34m]\u001b[0m\u001b[0;34m\u001b[0m\u001b[0m\n",
      "\u001b[0;31mKeyError\u001b[0m: 0"
     ]
    }
   ],
   "source": [
    "sample_ann_id = 906200099952\n",
    "temp_list = list()\n",
    "temp_list.append(sample_ann_id)\n",
    "sample_ann = coco.loadAnns(temp_list)\n",
    "print(sample_ann[0]['segmentation'])\n",
    "print(sample_ann[0]['bbox'])\n",
    "print(sample_ann[0]['segmentation'][0])\n",
    "\n",
    "xmin = sample_ann[0]['bbox'][0]\n",
    "ymin = sample_ann[0]['bbox'][1]\n",
    "temp_seg = sample_ann[0]['segmentation'][0]\n",
    "\n",
    "new_seg = list()\n",
    "length = len(temp_seg)\n",
    "#print(length)\n",
    "\n",
    "for i in range(0,length, 2):\n",
    "    new_seg.append(temp_seg[i]-xmin)\n",
    "    new_seg.append(temp_seg[i+1]-ymin)\n",
    "    \n",
    "#print(temp_list)\n",
    "#print(annIds)"
   ]
  },
  {
   "cell_type": "code",
   "execution_count": 5,
   "metadata": {},
   "outputs": [],
   "source": [
    "sample_ann[0]['segmentation'][0] = new_seg"
   ]
  },
  {
   "cell_type": "code",
   "execution_count": 6,
   "metadata": {},
   "outputs": [
    {
     "name": "stdout",
     "output_type": "stream",
     "text": [
      "(97, 42, 3)\n"
     ]
    },
    {
     "data": {
      "text/plain": [
       "<matplotlib.image.AxesImage at 0x7f458d18a828>"
      ]
     },
     "execution_count": 6,
     "metadata": {},
     "output_type": "execute_result"
    },
    {
     "data": {
      "image/png": "[encoded data removed]",
      "text/plain": [
       "<Figure size 432x288 with 1 Axes>"
      ]
     },
     "metadata": {},
     "output_type": "display_data"
    }
   ],
   "source": [
    "I = io.imread(bbox_crop_dir + str(sample_ann_id) + '.jpg')\n",
    "print(I.shape)\n",
    "plt.figure(); plt.axis('off')\n",
    "plt.imshow(I)"
   ]
  },
  {
   "cell_type": "code",
   "execution_count": 7,
   "metadata": {},
   "outputs": [
    {
     "data": {
      "text/plain": [
       "<matplotlib.image.AxesImage at 0x7f458d162ba8>"
      ]
     },
     "execution_count": 7,
     "metadata": {},
     "output_type": "execute_result"
    },
    {
     "data": {
      "image/png": "[encoded data removed]",
      "text/plain": [
       "<Figure size 432x288 with 1 Axes>"
      ]
     },
     "metadata": {},
     "output_type": "display_data"
    }
   ],
   "source": [
    "io.imshow(I)"
   ]
  },
  {
   "cell_type": "code",
   "execution_count": 8,
   "metadata": {},
   "outputs": [
    {
     "name": "stdout",
     "output_type": "stream",
     "text": [
      "<class 'int'>\n"
     ]
    },
    {
     "data": {
      "text/plain": [
       "<matplotlib.image.AxesImage at 0x7f458d123860>"
      ]
     },
     "execution_count": 8,
     "metadata": {},
     "output_type": "execute_result"
    },
    {
     "data": {
      "image/png": "[encoded data removed]",
      "text/plain": [
       "<Figure size 432x288 with 1 Axes>"
      ]
     },
     "metadata": {},
     "output_type": "display_data"
    }
   ],
   "source": [
    "t_list = list()\n",
    "t_list.append(sample_ann)\n",
    "print(type(sample_ann[0]['image_id']))\n",
    "\n",
    "#print(sample_ann[0]['segmentation'][0])\n",
    "\n",
    "plt.imshow(coco.annToMask(sample_ann[0])[0:100,0:100])"
   ]
  },
  {
   "cell_type": "code",
   "execution_count": 9,
   "metadata": {},
   "outputs": [
    {
     "name": "stdout",
     "output_type": "stream",
     "text": [
      "(116, 105, 3)\n"
     ]
    },
    {
     "name": "stderr",
     "output_type": "stream",
     "text": [
      "/usr/local/lib/python3.5/dist-packages/skimage/transform/_warps.py:105: UserWarning: The default mode, 'constant', will be changed to 'reflect' in skimage 0.15.\n",
      "  warn(\"The default mode, 'constant', will be changed to 'reflect' in \"\n",
      "/usr/local/lib/python3.5/dist-packages/skimage/transform/_warps.py:110: UserWarning: Anti-aliasing will be enabled by default in skimage 0.15 to avoid aliasing artifacts when down-sampling images.\n",
      "  warn(\"Anti-aliasing will be enabled by default in skimage 0.15 to \"\n"
     ]
    },
    {
     "data": {
      "text/plain": [
       "<matplotlib.image.AxesImage at 0x7f458d06f780>"
      ]
     },
     "execution_count": 9,
     "metadata": {},
     "output_type": "execute_result"
    },
    {
     "data": {
      "image/png": "[encoded data removed]",
      "text/plain": [
       "<Figure size 432x288 with 1 Axes>"
      ]
     },
     "metadata": {},
     "output_type": "display_data"
    }
   ],
   "source": [
    "I = io.imread(bbox_crop_dir + str(sample_ann_id) + '.jpg')\n",
    "#re_I = rescale(I,(1.2,2.5))\n",
    "re_I = resize(I, (116, 105))\n",
    "print(re_I.shape)\n",
    "plt.figure(); plt.axis('off')\n",
    "io.imshow(re_I)\n",
    "#io.imshow(rescale(I,(1.2,2.5)))"
   ]
  },
  {
   "cell_type": "code",
   "execution_count": 10,
   "metadata": {},
   "outputs": [
    {
     "name": "stdout",
     "output_type": "stream",
     "text": [
      "2.5\n",
      "1.1958762886597938\n"
     ]
    }
   ],
   "source": [
    "height_old, width_old, _ = I.shape\n",
    "height_new, width_new, _ = re_I.shape\n",
    "\n",
    "x_ratio = width_new / width_old\n",
    "y_ratio = height_new / height_old\n",
    "\n",
    "print(x_ratio)\n",
    "print(y_ratio)\n",
    "\n",
    "res_seg = list()\n",
    "\n",
    "temp_seg1 = sample_ann[0]['segmentation'][0]\n",
    "\n",
    "for i in range(0,length, 2):\n",
    "    res_seg.append(temp_seg1[i] * x_ratio)\n",
    "    res_seg.append(temp_seg1[i+1] * y_ratio)\n",
    "    \n",
    "sample_ann[0]['segmentation'][0] = res_seg    "
   ]
  },
  {
   "cell_type": "code",
   "execution_count": 11,
   "metadata": {},
   "outputs": [
    {
     "data": {
      "text/plain": [
       "<matplotlib.image.AxesImage at 0x7f458d0a2da0>"
      ]
     },
     "execution_count": 11,
     "metadata": {},
     "output_type": "execute_result"
    },
    {
     "data": {
      "image/png": "[encoded data removed]",
      "text/plain": [
       "<Figure size 432x288 with 1 Axes>"
      ]
     },
     "metadata": {},
     "output_type": "display_data"
    }
   ],
   "source": [
    "re_list = list()\n",
    "re_list.append(sample_ann)\n",
    "#print(type(sample_ann[0]['image_id']))\n",
    "\n",
    "#print(sample_ann[0]['segmentation'][0])\n",
    "\n",
    "plt.imshow(coco.annToMask(sample_ann[0])[0:116,0:105])"
   ]
  },
  {
   "cell_type": "code",
   "execution_count": 13,
   "metadata": {},
   "outputs": [
    {
     "data": {
      "text/plain": [
       "88.10000000000002"
      ]
     },
     "execution_count": 13,
     "metadata": {},
     "output_type": "execute_result"
    }
   ],
   "source": [
    "sample_ann[0]['segmentation'][0]"
   ]
  },
  {
   "cell_type": "code",
   "execution_count": 16,
   "metadata": {},
   "outputs": [
    {
     "name": "stdout",
     "output_type": "stream",
     "text": [
      "x: 88.10000000000002\n",
      "y: 5.776082474226785\n",
      "x: 73.62499999999997\n",
      "y: 1.7340206185566873\n",
      "x: 59.12499999999994\n",
      "y: 0.0\n",
      "x: 43.44999999999999\n",
      "y: 0.5859793814432759\n",
      "x: 27.749999999999986\n",
      "y: 1.7340206185566873\n",
      "x: 14.47499999999998\n",
      "y: 3.4680412371133746\n",
      "x: 3.6249999999999716\n",
      "y: 5.202061855670096\n",
      "x: 2.399999999999949\n",
      "y: 8.658144329896883\n",
      "x: 0.0\n",
      "y: 9.244123711340194\n",
      "x: 3.6249999999999716\n",
      "y: 12.700206185567016\n",
      "x: 8.449999999999989\n",
      "y: 13.860206185567014\n",
      "x: 10.849999999999937\n",
      "y: 17.90226804123711\n",
      "x: 10.849999999999937\n",
      "y: 23.678350515463897\n",
      "x: 4.824999999999946\n",
      "y: 44.45072164948452\n",
      "x: 4.824999999999946\n",
      "y: 53.12082474226803\n",
      "x: 4.824999999999946\n",
      "y: 58.884948453608224\n",
      "x: 13.275000000000006\n",
      "y: 65.23505154639173\n",
      "x: 18.09999999999995\n",
      "y: 68.70309278350514\n",
      "x: 28.94999999999996\n",
      "y: 71.01113402061856\n",
      "x: 41.02499999999999\n",
      "y: 75.05319587628864\n",
      "x: 45.84999999999994\n",
      "y: 79.66927835051547\n",
      "x: 45.84999999999994\n",
      "y: 83.71134020618557\n",
      "x: 50.674999999999955\n",
      "y: 96.99752577319589\n",
      "x: 44.64999999999996\n",
      "y: 102.7616494845361\n",
      "x: 35.0\n",
      "y: 105.0696907216495\n",
      "x: 28.94999999999996\n",
      "y: 106.80371134020619\n",
      "x: 21.724999999999994\n",
      "y: 107.3896907216495\n",
      "x: 10.849999999999937\n",
      "y: 109.11175257731959\n",
      "x: 10.849999999999937\n",
      "y: 112.00577319587624\n",
      "x: 18.09999999999995\n",
      "y: 114.88783505154638\n",
      "x: 27.749999999999986\n",
      "y: 115.4618556701031\n",
      "x: 54.299999999999926\n",
      "y: 116.04783505154634\n",
      "x: 54.299999999999926\n",
      "y: 116.04783505154634\n",
      "x: 67.57499999999993\n",
      "y: 116.04783505154634\n",
      "x: 71.1999999999999\n",
      "y: 116.04783505154634\n",
      "x: 88.10000000000002\n",
      "y: 111.4317525773196\n",
      "x: 106.1999999999999\n",
      "y: 110.27175257731956\n",
      "x: 103.79999999999995\n",
      "y: 103.92164948453605\n",
      "x: 83.275\n",
      "y: 102.18762886597936\n",
      "x: 72.39999999999995\n",
      "y: 98.719587628866\n",
      "x: 67.57499999999993\n",
      "y: 87.17938144329894\n",
      "x: 67.57499999999993\n",
      "y: 81.40329896907215\n",
      "x: 67.57499999999993\n",
      "y: 75.62721649484537\n",
      "x: 74.82500000000002\n",
      "y: 68.70309278350514\n",
      "x: 72.39999999999995\n",
      "y: 66.39505154639173\n",
      "x: 74.82500000000002\n",
      "y: 53.12082474226803\n",
      "x: 84.47499999999991\n",
      "y: 52.53484536082472\n",
      "x: 77.22499999999997\n",
      "y: 32.910515463917505\n",
      "x: 88.10000000000002\n",
      "y: 27.708453608247407\n",
      "x: 83.275\n",
      "y: 23.09237113402062\n",
      "x: 83.275\n",
      "y: 20.210309278350486\n",
      "x: 83.275\n",
      "y: 17.328247422680388\n",
      "x: 83.275\n",
      "y: 13.860206185567014\n",
      "x: 85.67499999999995\n",
      "y: 10.966185567010294\n",
      "x: 88.10000000000002\n",
      "y: 7.510103092783506\n"
     ]
    }
   ],
   "source": [
    "x_list = list()\n",
    "y_list = list()\n",
    "\n",
    "for i in range(0, len(sample_ann[0]['segmentation'][0]), 2):\n",
    "    x_list.append(sample_ann[0]['segmentation'][0][i])\n",
    "    y_list.append(sample_ann[0]['segmentation'][0][i+1])\n",
    "    print(\"x: \" + str(sample_ann[0]['segmentation'][0][i]))\n",
    "    print(\"y: \" + str(sample_ann[0]['segmentation'][0][i+1]))"
   ]
  },
  {
   "cell_type": "code",
   "execution_count": 19,
   "metadata": {},
   "outputs": [
    {
     "name": "stdout",
     "output_type": "stream",
     "text": [
      "106.1999999999999\n",
      "116.04783505154634\n"
     ]
    }
   ],
   "source": [
    "print(max(x_list))\n",
    "print(max(y_list))"
   ]
  },
  {
   "cell_type": "code",
   "execution_count": null,
   "metadata": {},
   "outputs": [],
   "source": []
  }
 ],
 "metadata": {
  "kernelspec": {
   "display_name": "Python 3",
   "language": "python",
   "name": "python3"
  },
  "language_info": {
   "codemirror_mode": {
    "name": "ipython",
    "version": 3
   },
   "file_extension": ".py",
   "mimetype": "text/x-python",
   "name": "python",
   "nbconvert_exporter": "python",
   "pygments_lexer": "ipython3",
   "version": "3.5.2"
  }
 },
 "nbformat": 4,
 "nbformat_minor": 2
}
