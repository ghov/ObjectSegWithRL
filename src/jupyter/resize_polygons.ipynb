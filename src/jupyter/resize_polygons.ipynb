{
 "cells": [
  {
   "cell_type": "code",
   "execution_count": 15,
   "metadata": {},
   "outputs": [],
   "source": [
    "import numpy as np\n",
    "import skimage.io as io\n",
    "from skimage.transform import resize\n",
    "import matplotlib.pyplot as plt\n",
    "import os\n",
    "import json\n",
    "from pycocotools.coco import COCO\n",
    "%matplotlib inline"
   ]
  },
  {
   "cell_type": "code",
   "execution_count": 16,
   "metadata": {},
   "outputs": [],
   "source": [
    "import sys\n",
    "sys.path.insert(0, os.path.abspath('..'))\n",
    "# from /home/greghovhannisyan/PycharmProjects/towards_rlnn_cnn/ObjectSegWithRL/src/resize_functions.py import *\n",
    "from resize_functions import *"
   ]
  },
  {
   "cell_type": "code",
   "execution_count": 17,
   "metadata": {},
   "outputs": [],
   "source": [
    "polygon_file_path = '/media/greghovhannisyan/BackupData1/mscoco/annotations/crop_annotations/train2017_crop_bbox_polygons_adjusted.json'\n",
    "poly_write_path = '/media/greghovhannisyan/BackupData1/mscoco/annotations/crop_annotations/train2017_crop_bbox_polygons_resized.json'\n",
    "annFile = '/media/greghovhannisyan/BackupData1/mscoco/annotations/instances/instances_train2017.json'"
   ]
  },
  {
   "cell_type": "code",
   "execution_count": 12,
   "metadata": {},
   "outputs": [
    {
     "name": "stdout",
     "output_type": "stream",
     "text": [
      "loading annotations into memory...\n",
      "Done (t=15.39s)\n",
      "creating index...\n",
      "index created!\n"
     ]
    }
   ],
   "source": [
    "# initialize COCO api for instance annotations\n",
    "coco=COCO(annFile)"
   ]
  },
  {
   "cell_type": "code",
   "execution_count": 4,
   "metadata": {},
   "outputs": [],
   "source": [
    "new_shape = (224, 224)"
   ]
  },
  {
   "cell_type": "code",
   "execution_count": 5,
   "metadata": {},
   "outputs": [],
   "source": [
    "# Load the polygon json and the vertex json\n",
    "with open(polygon_file_path, 'r') as read_file:\n",
    "    poly_json = json.load(read_file)"
   ]
  },
  {
   "cell_type": "code",
   "execution_count": 6,
   "metadata": {},
   "outputs": [],
   "source": [
    "with open('bbox_poly_resize_gte_10k.txt', 'r') as read_file:\n",
    "    filter_set_temp = read_file.read().splitlines()\n",
    "    \n",
    "filter_list = list()\n",
    "for val in filter_set_temp:\n",
    "    filter_list.append(int(val))"
   ]
  },
  {
   "cell_type": "code",
   "execution_count": 14,
   "metadata": {},
   "outputs": [],
   "source": [
    "resize_polygon_batch(coco, filter_list, new_shape, poly_json, poly_write_path)"
   ]
  },
  {
   "cell_type": "code",
   "execution_count": null,
   "metadata": {},
   "outputs": [],
   "source": []
  }
 ],
 "metadata": {
  "kernelspec": {
   "display_name": "Python 3",
   "language": "python",
   "name": "python3"
  },
  "language_info": {
   "codemirror_mode": {
    "name": "ipython",
    "version": 3
   },
   "file_extension": ".py",
   "mimetype": "text/x-python",
   "name": "python",
   "nbconvert_exporter": "python",
   "pygments_lexer": "ipython3",
   "version": "3.5.2"
  }
 },
 "nbformat": 4,
 "nbformat_minor": 2
}
