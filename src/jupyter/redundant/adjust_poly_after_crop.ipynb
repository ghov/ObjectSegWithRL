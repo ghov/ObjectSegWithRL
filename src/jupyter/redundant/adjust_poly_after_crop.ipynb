{
 "cells": [
  {
   "cell_type": "code",
   "execution_count": 1,
   "metadata": {},
   "outputs": [],
   "source": [
    "#from os import listdir\n",
    "from torchvision.transforms import Resize\n",
    "from PIL import Image\n",
    "import skimage.io as io\n",
    "%matplotlib inline\n",
    "from pycocotools.coco import COCO\n",
    "from os import listdir\n",
    "import matplotlib.pyplot as plt\n",
    "import numpy as np\n",
    "from skimage.transform import resize\n",
    "from skimage.transform import rescale\n",
    "import json\n",
    "import os"
   ]
  },
  {
   "cell_type": "code",
   "execution_count": 45,
   "metadata": {},
   "outputs": [],
   "source": [
    "read_directory = '/media/greghovhannisyan/BackupData1/mscoco/images/train2017_crop_bbox/'\n",
    "write_file_path = '/home/greghovhannisyan/PycharmProjects/towards_rlnn_cnn/ObjectSegWithRL/data/train_2017_bbox_crop_polygons_adjusted.json'\n",
    "annFile = '/media/greghovhannisyan/BackupData1/mscoco/annotations/instances/instances_train2017.json'\n",
    "vertex_json_path = '/home/greghovhannisyan/PycharmProjects/towards_rlnn_cnn/ObjectSegWithRL/data/vertex_count_segmentation_ids.json'\n",
    "bbox_json_path = '/home/greghovhannisyan/PycharmProjects/towards_rlnn_cnn/ObjectSegWithRL/data/bbox_crop_shape_gte10k.json'"
   ]
  },
  {
   "cell_type": "code",
   "execution_count": 6,
   "metadata": {},
   "outputs": [
    {
     "name": "stdout",
     "output_type": "stream",
     "text": [
      "loading annotations into memory...\n",
      "Done (t=17.08s)\n",
      "creating index...\n",
      "index created!\n"
     ]
    }
   ],
   "source": [
    "# initialize COCO api for instance annotations\n",
    "coco=COCO(annFile)"
   ]
  },
  {
   "cell_type": "code",
   "execution_count": 26,
   "metadata": {},
   "outputs": [],
   "source": [
    "with open(vertex_json_path, 'r') as read_vertex:\n",
    "    shape_json = json.load(read_vertex)\n",
    "\n",
    "combined_shape_list = list()\n",
    "# combine the shape_json\n",
    "for key in shape_json:\n",
    "    combined_shape_list.extend(shape_json[key])"
   ]
  },
  {
   "cell_type": "code",
   "execution_count": 27,
   "metadata": {},
   "outputs": [],
   "source": [
    "seg_anns = coco.loadAnns(combined_shape_list)"
   ]
  },
  {
   "cell_type": "code",
   "execution_count": 28,
   "metadata": {},
   "outputs": [],
   "source": [
    "new_poly = dict()\n",
    "for ann in seg_anns:\n",
    "    #print(str(ann['id']) + \"yes\")\n",
    "    new_poly[ann['id']] = adjust_poly_crop(ann['bbox'], ann['segmentation'][0])"
   ]
  },
  {
   "cell_type": "code",
   "execution_count": 47,
   "metadata": {},
   "outputs": [],
   "source": [
    "with open(write_file_path, 'w') as write_file:\n",
    "    json.dump(new_poly, write_file, sort_keys=True, indent=4)"
   ]
  },
  {
   "cell_type": "code",
   "execution_count": null,
   "metadata": {},
   "outputs": [],
   "source": []
  }
 ],
 "metadata": {
  "kernelspec": {
   "display_name": "Python 3",
   "language": "python",
   "name": "python3"
  },
  "language_info": {
   "codemirror_mode": {
    "name": "ipython",
    "version": 3
   },
   "file_extension": ".py",
   "mimetype": "text/x-python",
   "name": "python",
   "nbconvert_exporter": "python",
   "pygments_lexer": "ipython3",
   "version": "3.5.2"
  }
 },
 "nbformat": 4,
 "nbformat_minor": 2
}
