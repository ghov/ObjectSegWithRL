{
 "cells": [
  {
   "cell_type": "code",
   "execution_count": 17,
   "metadata": {},
   "outputs": [],
   "source": [
    "# Need to normalize the images by mean and standard deviation.\n",
    "# Either by batch or as a whole.\n",
    "# Might also need to normalize the labels."
   ]
  },
  {
   "cell_type": "code",
   "execution_count": 18,
   "metadata": {},
   "outputs": [],
   "source": [
    "import torch\n",
    "import numpy as np\n",
    "import skimage.io as io\n",
    "from torchvision import transforms\n",
    "from os import listdir"
   ]
  },
  {
   "cell_type": "code",
   "execution_count": 19,
   "metadata": {},
   "outputs": [],
   "source": [
    "# Paths\n",
    "image_dir_read_path = '/media/greghovhannisyan/BackupData1/mscoco/images/by_vertex/30/'"
   ]
  },
  {
   "cell_type": "code",
   "execution_count": 35,
   "metadata": {},
   "outputs": [],
   "source": [
    "# for each image in the directory, load the image and get the mean and std.deviation for each channel.\n",
    "# Add this array to a \n",
    "\n",
    "all_means = None\n",
    "all_std = None\n",
    "for filename in listdir(image_dir_read_path):\n",
    "    temp_img = io.imread(image_dir_read_path + filename)\n",
    "    \n",
    "        # Check if it is greyscale\n",
    "    if len(temp_img.shape) == 2:\n",
    "        height, width = temp_img.shape\n",
    "        temp_img = np.resize(temp_img, (height, width, 3))\n",
    "    \n",
    "    if(all_means is None):\n",
    "        all_means = np.mean(temp_img, axis=(0,1)).reshape((1,3))\n",
    "    else:\n",
    "        #print(all_means.shape)\n",
    "        all_means = np.concatenate((all_means, np.mean(temp_img, axis=(0,1)).reshape((1,3))), axis=0)\n",
    "\n",
    "    if(all_std is None):\n",
    "        all_std = np.std(temp_img, axis=(0,1)).reshape((1,3))\n",
    "    else:\n",
    "        all_std = np.concatenate((all_std, np.std(temp_img, axis=(0,1)).reshape((1,3))))"
   ]
  },
  {
   "cell_type": "code",
   "execution_count": 40,
   "metadata": {},
   "outputs": [
    {
     "name": "stdout",
     "output_type": "stream",
     "text": [
      "(5960, 3)\n",
      "(5960, 3)\n",
      "[115.64242667  99.48633602  85.3786627 ]\n",
      "[54.20445309 52.83599776 51.3318266 ]\n"
     ]
    }
   ],
   "source": [
    "print(all_means.shape)\n",
    "print(all_std.shape)\n",
    "print(np.mean(all_means, axis=(0)))\n",
    "print(np.mean(all_std, axis=(0)))"
   ]
  },
  {
   "cell_type": "code",
   "execution_count": 38,
   "metadata": {},
   "outputs": [
    {
     "data": {
      "text/plain": [
       "array([158.66816805, 161.15561224, 172.58785077])"
      ]
     },
     "execution_count": 38,
     "metadata": {},
     "output_type": "execute_result"
    }
   ],
   "source": [
    "all_means[1]"
   ]
  },
  {
   "cell_type": "code",
   "execution_count": 20,
   "metadata": {},
   "outputs": [],
   "source": [
    "img1 = io.imread(image_dir_read_path + '172048' + '.jpg')\n",
    "img2 = io.imread(image_dir_read_path + '349' + '.jpg')"
   ]
  },
  {
   "cell_type": "code",
   "execution_count": 21,
   "metadata": {},
   "outputs": [],
   "source": [
    "#img1 = np.divide(img1, 255)\n",
    "#img2 = np.divide(img2, 255)"
   ]
  },
  {
   "cell_type": "code",
   "execution_count": 23,
   "metadata": {},
   "outputs": [],
   "source": [
    "img = np.stack((img1, img2), axis=0)\n",
    "img3 = np.concatenate((img1, img2), axis=0)\n",
    "#img = np.stack((img, img1), axis=0)"
   ]
  },
  {
   "cell_type": "code",
   "execution_count": 26,
   "metadata": {},
   "outputs": [
    {
     "data": {
      "text/plain": [
       "(1, 448, 224, 3)"
      ]
     },
     "execution_count": 26,
     "metadata": {},
     "output_type": "execute_result"
    }
   ],
   "source": [
    "img3.reshape((1,448,224,3)).shape"
   ]
  },
  {
   "cell_type": "code",
   "execution_count": 30,
   "metadata": {},
   "outputs": [
    {
     "name": "stdout",
     "output_type": "stream",
     "text": [
      "[133.54284917  96.43688217  70.87617586]\n",
      "[65.95527055 52.24417064 57.18636034]\n",
      "133.46399485209838\n",
      "66.03586009412783\n",
      "(1, 3)\n"
     ]
    }
   ],
   "source": [
    "print(np.mean(img, axis=(0, 1, 2)))\n",
    "print(np.std(img, axis=(0, 1, 2)))\n",
    "print(np.mean(img[:, 0:223, 0:223, 0]))\n",
    "print(np.std(img[:, 0:223, 0:223, 0]))\n",
    "print(np.mean(img, axis=(0, 1, 2)).reshape((1,3)).shape)\n",
    "#type([np.mean(img, axis=(0,1))])"
   ]
  },
  {
   "cell_type": "code",
   "execution_count": 9,
   "metadata": {},
   "outputs": [],
   "source": [
    "a= transforms.Normalize(mean=np.mean(img, axis=(0, 1, 2)).tolist(), std=np.std(img, axis=(0, 1, 2)).tolist())"
   ]
  },
  {
   "cell_type": "code",
   "execution_count": 13,
   "metadata": {},
   "outputs": [
    {
     "name": "stdout",
     "output_type": "stream",
     "text": [
      "[95.90842235331633, 108.4228515625, 102.1250996492347]\n"
     ]
    }
   ],
   "source": [
    "print(np.mean(img, axis=(0,1)).tolist())"
   ]
  },
  {
   "cell_type": "code",
   "execution_count": 9,
   "metadata": {},
   "outputs": [
    {
     "data": {
      "text/plain": [
       "array([[[134, 124,  89],\n",
       "        [129, 119,  84],\n",
       "        [134, 124,  89],\n",
       "        ...,\n",
       "        [181, 171, 146],\n",
       "        [179, 169, 144],\n",
       "        [157, 147, 122]],\n",
       "\n",
       "       [[137, 127,  92],\n",
       "        [131, 121,  86],\n",
       "        [135, 125,  90],\n",
       "        ...,\n",
       "        [184, 174, 149],\n",
       "        [179, 169, 144],\n",
       "        [157, 147, 122]],\n",
       "\n",
       "       [[138, 128,  93],\n",
       "        [132, 122,  87],\n",
       "        [135, 125,  90],\n",
       "        ...,\n",
       "        [189, 179, 154],\n",
       "        [184, 174, 149],\n",
       "        [160, 150, 125]],\n",
       "\n",
       "       ...,\n",
       "\n",
       "       [[176, 165, 161],\n",
       "        [176, 165, 161],\n",
       "        [176, 165, 161],\n",
       "        ...,\n",
       "        [171, 165, 165],\n",
       "        [170, 164, 164],\n",
       "        [170, 164, 164]],\n",
       "\n",
       "       [[175, 164, 160],\n",
       "        [175, 164, 160],\n",
       "        [175, 164, 160],\n",
       "        ...,\n",
       "        [170, 164, 164],\n",
       "        [170, 164, 164],\n",
       "        [169, 163, 163]],\n",
       "\n",
       "       [[174, 163, 159],\n",
       "        [174, 163, 159],\n",
       "        [174, 163, 159],\n",
       "        ...,\n",
       "        [170, 164, 164],\n",
       "        [170, 164, 164],\n",
       "        [169, 163, 163]]], dtype=uint8)"
      ]
     },
     "execution_count": 9,
     "metadata": {},
     "output_type": "execute_result"
    }
   ],
   "source": [
    "img"
   ]
  },
  {
   "cell_type": "code",
   "execution_count": 21,
   "metadata": {},
   "outputs": [
    {
     "name": "stdout",
     "output_type": "stream",
     "text": [
      "tensor(1.5377e+07)\n"
     ]
    }
   ],
   "source": [
    "print(torch.sum(torch.from_numpy(img)))"
   ]
  },
  {
   "cell_type": "code",
   "execution_count": 22,
   "metadata": {},
   "outputs": [
    {
     "name": "stdout",
     "output_type": "stream",
     "text": [
      "tensor([[[ 2,  2,  2,  ...,  2,  2,  2],\n",
      "         [ 2,  2,  2,  ...,  2,  2,  2],\n",
      "         [ 2,  2,  2,  ...,  2,  2,  2],\n",
      "         ...,\n",
      "         [ 0,  0,  3,  ...,  0,  0,  0],\n",
      "         [ 0,  0,  3,  ...,  0,  3,  3],\n",
      "         [ 3,  4,  4,  ...,  0,  0,  2]],\n",
      "\n",
      "        [[ 0,  0,  3,  ...,  0,  0,  0],\n",
      "         [ 0,  4,  4,  ...,  0,  4,  3],\n",
      "         [ 4,  4,  4,  ...,  0,  0,  3],\n",
      "         ...,\n",
      "         [ 1,  1,  1,  ...,  0,  0,  0],\n",
      "         [ 0,  0,  0,  ...,  0,  0,  0],\n",
      "         [ 1,  1,  1,  ...,  1,  1,  1]],\n",
      "\n",
      "        [[ 1,  1,  1,  ...,  1,  1,  1],\n",
      "         [ 1,  1,  1,  ...,  1,  1,  1],\n",
      "         [ 1,  1,  1,  ...,  1,  1,  1],\n",
      "         ...,\n",
      "         [ 1,  1,  1,  ...,  0,  1,  1],\n",
      "         [ 0,  1,  1,  ...,  1,  1,  1],\n",
      "         [ 1,  1,  1,  ...,  1,  1,  1]]], dtype=torch.uint8)\n"
     ]
    }
   ],
   "source": [
    "print(a(torch.from_numpy(img).view(3,224,224)))"
   ]
  },
  {
   "cell_type": "code",
   "execution_count": 36,
   "metadata": {},
   "outputs": [
    {
     "data": {
      "text/plain": [
       "array(309151)"
      ]
     },
     "execution_count": 36,
     "metadata": {},
     "output_type": "execute_result"
    }
   ],
   "source": [
    "torch.sum(a(torch.from_numpy(img).view(3,224,224))).data.numpy()"
   ]
  },
  {
   "cell_type": "code",
   "execution_count": 40,
   "metadata": {},
   "outputs": [
    {
     "data": {
      "text/plain": [
       "(3, 224, 224)"
      ]
     },
     "execution_count": 40,
     "metadata": {},
     "output_type": "execute_result"
    }
   ],
   "source": [
    "a(torch.from_numpy(img).view(3,224,224)).data.numpy().shape"
   ]
  },
  {
   "cell_type": "code",
   "execution_count": 15,
   "metadata": {},
   "outputs": [
    {
     "name": "stdout",
     "output_type": "stream",
     "text": [
      "[1. 3. 3.]\n",
      "[1. 3. 3.]\n"
     ]
    }
   ],
   "source": [
    "print(np.mean(a(torch.from_numpy(img1).view(3,224,224)).data.numpy(), axis=(1,2)))\n",
    "print(np.mean(a(torch.from_numpy(img2).view(3,224,224)).data.numpy(), axis=(1,2)))"
   ]
  },
  {
   "cell_type": "code",
   "execution_count": 16,
   "metadata": {},
   "outputs": [
    {
     "name": "stdout",
     "output_type": "stream",
     "text": [
      "[0. 0. 0.]\n",
      "[0. 0. 0.]\n"
     ]
    }
   ],
   "source": [
    "print(np.std(a(torch.from_numpy(img1).view(3,224,224)).data.numpy(), axis=(1,2)))\n",
    "print(np.std(a(torch.from_numpy(img2).view(3,224,224)).data.numpy(), axis=(1,2)))"
   ]
  },
  {
   "cell_type": "code",
   "execution_count": 58,
   "metadata": {},
   "outputs": [
    {
     "data": {
      "text/plain": [
       "351232"
      ]
     },
     "execution_count": 58,
     "metadata": {},
     "output_type": "execute_result"
    }
   ],
   "source": [
    "np.sum(img2)"
   ]
  },
  {
   "cell_type": "code",
   "execution_count": null,
   "metadata": {},
   "outputs": [],
   "source": []
  }
 ],
 "metadata": {
  "kernelspec": {
   "display_name": "Python 3",
   "language": "python",
   "name": "python3"
  },
  "language_info": {
   "codemirror_mode": {
    "name": "ipython",
    "version": 3
   },
   "file_extension": ".py",
   "mimetype": "text/x-python",
   "name": "python",
   "nbconvert_exporter": "python",
   "pygments_lexer": "ipython3",
   "version": "3.5.2"
  }
 },
 "nbformat": 4,
 "nbformat_minor": 2
}
